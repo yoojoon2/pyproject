{
 "cells": [
  {
   "cell_type": "code",
   "execution_count": 1,
   "metadata": {},
   "outputs": [
    {
     "name": "stdout",
     "output_type": "stream",
     "text": [
      "sales.csv 파일이 생성되었습니다.\n"
     ]
    }
   ],
   "source": [
    "import pandas as pd\n",
    "\n",
    "# 1. 가짜 데이터 생성\n",
    "data = {\n",
    "    'ProductID': [101, 102, 103, 104, 101, 102, 103, 105, 106, 101],\n",
    "    'ProductName': ['A', 'B', 'C', 'D', 'A', 'B', 'C', 'E', 'F', 'A'],\n",
    "    'Price': [100, 200, 300, 400, 100, 200, 300, 500, 600, 100],\n",
    "    'Quantity': [1, 2, 3, 4, 1, 2, 3, 5, 6, 1]\n",
    "}\n",
    "\n",
    "# 2. DataFrame 생성\n",
    "df = pd.DataFrame(data)\n",
    "\n",
    "# 3. 중복된 데이터를 일부 추가 (중복된 행 4개 추가)\n",
    "df.loc[len(df.index)] = [101, 'A', 100, 1]  # 중복 행 추가\n",
    "df.loc[len(df.index)] = [102, 'B', 200, 2]  # 중복 행 추가\n",
    "df.loc[len(df.index)] = [103, 'C', 300, 3]  # 중복 행 추가\n",
    "df.loc[len(df.index)] = [104, 'D', 400, 4]  # 중복 행 추가\n",
    "\n",
    "# 4. CSV 파일로 내보내기\n",
    "df.to_csv('sales.csv', index=False)\n",
    "\n",
    "print(\"sales.csv 파일이 생성되었습니다.\")\n"
   ]
  },
  {
   "cell_type": "code",
   "execution_count": 2,
   "metadata": {},
   "outputs": [
    {
     "name": "stdout",
     "output_type": "stream",
     "text": [
      "중복된 행 개수: 8\n",
      "중복 제거 후 남은 행 개수: 6\n"
     ]
    }
   ],
   "source": [
    "import pandas as pd\n",
    "\n",
    "# sales.csv 파일 불러오기\n",
    "df = pd.read_csv(r'C:\\skproject\\pyproject\\sales.csv')\n",
    "\n",
    "# 중복된 행 개수 출력\n",
    "double = df.duplicated().sum()\n",
    "print(f'중복된 행 개수: {double}')\n",
    "\n",
    "# 중복된 행 제거\n",
    "df_no_double = df.drop_duplicates()\n",
    "\n",
    "# 중복 제거 후 남은 데이터(행) 개수 출력\n",
    "print(f'중복 제거 후 남은 행 개수: {len(df_no_double)}')\n"
   ]
  }
 ],
 "metadata": {
  "kernelspec": {
   "display_name": ".venv",
   "language": "python",
   "name": "python3"
  },
  "language_info": {
   "codemirror_mode": {
    "name": "ipython",
    "version": 3
   },
   "file_extension": ".py",
   "mimetype": "text/x-python",
   "name": "python",
   "nbconvert_exporter": "python",
   "pygments_lexer": "ipython3",
   "version": "3.12.2"
  }
 },
 "nbformat": 4,
 "nbformat_minor": 2
}
