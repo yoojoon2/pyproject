{
 "cells": [
  {
   "cell_type": "code",
   "execution_count": 3,
   "metadata": {},
   "outputs": [
    {
     "name": "stdout",
     "output_type": "stream",
     "text": [
      "      fixed acidity  volatile acidity  citric acid  residual sugar  chlorides\n",
      "0         -0.528360          0.961877    -1.391472       -0.453218  -0.243707\n",
      "1         -0.298547          1.967442    -1.391472        0.043416   0.223875\n",
      "2         -0.298547          1.297065    -1.186070       -0.169427   0.096353\n",
      "3          1.654856         -1.384443     1.484154       -0.453218  -0.264960\n",
      "4         -0.528360          0.961877    -1.391472       -0.453218  -0.243707\n",
      "...             ...               ...          ...             ...        ...\n",
      "1594      -1.217796          0.403229    -0.980669       -0.382271   0.053845\n",
      "1595      -1.390155          0.123905    -0.877968       -0.240375  -0.541259\n",
      "1596      -1.160343         -0.099554    -0.723916       -0.169427  -0.243707\n",
      "1597      -1.390155          0.654620    -0.775267       -0.382271  -0.264960\n",
      "1598      -1.332702         -1.216849     1.021999        0.752894  -0.434990\n",
      "\n",
      "[1599 rows x 5 columns]\n"
     ]
    }
   ],
   "source": [
    "import pandas as pd\n",
    "from sklearn.preprocessing import StandardScaler\n",
    "\n",
    "# 1. 데이터 불러오기\n",
    "df = pd.read_csv(r'C:\\skproject\\pyproject\\winequality-red.csv')\n",
    "\n",
    "# 2. 스케일링할 열 지정\n",
    "cols = ['fixed acidity', 'volatile acidity', 'citric acid', 'residual sugar', 'chlorides']\n",
    "\n",
    "# 3. StandardScaler로 표준화\n",
    "scaler = StandardScaler()\n",
    "scaled = scaler.fit_transform(df[cols])\n",
    "\n",
    "# 4. 결과를 DataFrame으로 변환\n",
    "scaled_df = pd.DataFrame(scaled, columns=cols)\n",
    "\n",
    "# 5. 표준화된 결과 출력\n",
    "print(scaled_df)\n"
   ]
  }
 ],
 "metadata": {
  "kernelspec": {
   "display_name": ".venv",
   "language": "python",
   "name": "python3"
  },
  "language_info": {
   "codemirror_mode": {
    "name": "ipython",
    "version": 3
   },
   "file_extension": ".py",
   "mimetype": "text/x-python",
   "name": "python",
   "nbconvert_exporter": "python",
   "pygments_lexer": "ipython3",
   "version": "3.12.2"
  }
 },
 "nbformat": 4,
 "nbformat_minor": 2
}
