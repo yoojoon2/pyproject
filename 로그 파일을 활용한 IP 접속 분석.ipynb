{
 "cells": [
  {
   "cell_type": "code",
   "execution_count": 6,
   "metadata": {},
   "outputs": [
    {
     "name": "stdout",
     "output_type": "stream",
     "text": [
      "자주 접속한 IP 3개:\n",
      "203.0.113.5 - 17번 접속\n",
      "192.168.0.3 - 14번 접속\n",
      "192.168.0.2 - 14번 접속\n",
      "분석 끝! ip_접속분석.csv 파일로 저장했어요.\n"
     ]
    }
   ],
   "source": [
    "import re  # 정규 표현식을 사용할 수 있게 해주는 파이썬 기본 모듈\n",
    "import os  # 파일이나 폴더 경로, 존재 여부 등을 확인할 수 있게 해주는 모듈\n",
    "from collections import Counter  # 리스트 안에 있는 항목들이 몇 번 나왔는지 세어주는 도구\n",
    "import csv  # CSV 파일을 읽고 쓰게 해주는 모듈\n",
    "\n",
    "# 로그파일 경로 지정\n",
    "log_file_path = '20250613_091920_sample_log_file.log'\n",
    "\n",
    "# 로그파일이 실제로 존재하는지 확인\n",
    "if not os.path.exists(log_file_path):\n",
    "    print(\"파일이 없는데요??. 경로 다시 확인해주세요.\")\n",
    "    exit()\n",
    "\n",
    "# 로그파일 열기 및 IP 주소 추출\n",
    "with open(log_file_path, 'r', encoding='utf-8') as f:\n",
    "    log_text = f.read()\n",
    "    \n",
    "    # 정규표현식을 사용해 IP 주소 추출\n",
    "    # \\b: 단어 경계 (IP가 다른 문자랑 붙어있을 경우 구분)\n",
    "    # (?:[0-9]{1,3}\\.){3} : 숫자 1~3자리 + 마침표(.)가 3번 반복 (예: 192.168.0.)\n",
    "    # [0-9]{1,3} : 마지막 숫자 한 덩어리 (예: 1 ~ 255)\n",
    "    # 전체적으로 000.000.000.000 형식의 IPv4 주소를 찾아냄\n",
    "    ip_list = re.findall(r'\\b(?:[0-9]{1,3}\\.){3}[0-9]{1,3}\\b', log_text)\n",
    "\n",
    "# IP 주소별로 몇 번 나왔는지 세기\n",
    "ip_counter = Counter(ip_list)\n",
    "\n",
    "# 가장 많이 나온 IP 주소 3개 추출\n",
    "top3_ip = ip_counter.most_common(3)\n",
    "\n",
    "# 결과 출력\n",
    "print(\"자주 접속한 IP 3개:\")\n",
    "for ip, count in top3_ip:\n",
    "    print(f\"{ip} - {count}번 접속\")\n",
    "\n",
    "# 결과를 CSV 파일로 저장 (utf-8-sig)\n",
    "with open('ip_접속분석.csv', 'w', encoding='utf-8-sig', newline='') as f:\n",
    "    writer = csv.writer(f)\n",
    "    writer.writerow(['IP주소', '접속횟수'])  # 첫 줄: 헤더\n",
    "    for row in top3_ip:\n",
    "        writer.writerow(row)\n",
    "\n",
    "print(\"분석 끝! ip_접속분석.csv 파일로 저장했어요.\")\n"
   ]
  }
 ],
 "metadata": {
  "kernelspec": {
   "display_name": ".venv",
   "language": "python",
   "name": "python3"
  },
  "language_info": {
   "codemirror_mode": {
    "name": "ipython",
    "version": 3
   },
   "file_extension": ".py",
   "mimetype": "text/x-python",
   "name": "python",
   "nbconvert_exporter": "python",
   "pygments_lexer": "ipython3",
   "version": "3.12.2"
  }
 },
 "nbformat": 4,
 "nbformat_minor": 2
}
