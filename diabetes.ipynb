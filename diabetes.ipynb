{
 "cells": [
  {
   "cell_type": "code",
   "execution_count": 10,
   "metadata": {},
   "outputs": [
    {
     "name": "stderr",
     "output_type": "stream",
     "text": [
      "C:\\Users\\User\\AppData\\Local\\Temp\\ipykernel_32736\\491421267.py:14: FutureWarning: A value is trying to be set on a copy of a DataFrame or Series through chained assignment using an inplace method.\n",
      "The behavior will change in pandas 3.0. This inplace method will never work because the intermediate object on which we are setting values always behaves as a copy.\n",
      "\n",
      "For example, when doing 'df[col].method(value, inplace=True)', try using 'df.method({col: value}, inplace=True)' or df[col] = df[col].method(value) instead, to perform the operation inplace on the original object.\n",
      "\n",
      "\n",
      "  df[col].fillna(df[col].mean(), inplace=True)\n"
     ]
    }
   ],
   "source": [
    "import pandas as pd\n",
    "import numpy as np\n",
    "from sklearn.preprocessing import MinMaxScaler\n",
    "\n",
    "df = pd.read_csv(r'C:\\skproject\\pyproject\\20250618_175248_diabetes.csv')\n",
    "\n",
    "# 결측치(0 → NaN) 처리 후 평균값으로 대체\n",
    "# Glucose, BloodPressure, SkinThickness, Insulin, BMI 열에서 0은 결측치로 간주\n",
    "cols_with_zero_na = ['Glucose', 'BloodPressure', 'SkinThickness', 'Insulin', 'BMI']\n",
    "for col in cols_with_zero_na:\n",
    "    # 0을 NaN(결측치)으로 변환\n",
    "    df[col] = df[col].replace(0, np.nan) \n",
    "    # NaN(결측치)을 해당 열의 평균값으로 대체\n",
    "    df[col].fillna(df[col].mean(), inplace=True)\n",
    "\n",
    "#이상치(상위 1%) 평균값으로 대체\n",
    "# SkinThickness, Insulin 열의 99% 분위수(q99) 초과 값을 이상치로 간주\n",
    "for col in ['SkinThickness', 'Insulin']:\n",
    "    q99 = df[col].quantile(0.99)\n",
    "    mean_value = df[col][df[col] <= q99].mean()\n",
    "    df.loc[df[col] > q99, col] = mean_value\n",
    "\n",
    "# Age MinMaxScaler 정규화\n",
    "scaler = MinMaxScaler()\n",
    "df['Age'] = scaler.fit_transform(df[['Age']])\n"
   ]
  },
  {
   "cell_type": "code",
   "execution_count": 11,
   "metadata": {},
   "outputs": [
    {
     "name": "stdout",
     "output_type": "stream",
     "text": [
      "각 열 결측치 개수:\n",
      "Pregnancies                 0\n",
      "Glucose                     0\n",
      "BloodPressure               0\n",
      "SkinThickness               0\n",
      "Insulin                     0\n",
      "BMI                         0\n",
      "DiabetesPedigreeFunction    0\n",
      "Age                         0\n",
      "Outcome                     0\n",
      "dtype: int64\n"
     ]
    }
   ],
   "source": [
    "# 5. EDA\n",
    "print('각 열 결측치 개수:')\n",
    "print(df.isnull().sum())"
   ]
  },
  {
   "cell_type": "code",
   "execution_count": 12,
   "metadata": {},
   "outputs": [
    {
     "name": "stdout",
     "output_type": "stream",
     "text": [
      "\n",
      "Outcome별 Glucose 평균:\n",
      "Outcome\n",
      "0    110.710121\n",
      "1    142.165573\n",
      "Name: Glucose, dtype: float64\n"
     ]
    }
   ],
   "source": [
    "print('\\nOutcome별 Glucose 평균:')\n",
    "print(df.groupby('Outcome')['Glucose'].mean())"
   ]
  },
  {
   "cell_type": "code",
   "execution_count": 13,
   "metadata": {},
   "outputs": [
    {
     "name": "stdout",
     "output_type": "stream",
     "text": [
      "\n",
      "전처리 후 데이터프레임 상위 5개 행:\n",
      "   Pregnancies  Glucose  BloodPressure  SkinThickness     Insulin   BMI  \\\n",
      "0            6    148.0           72.0       35.00000  155.548223  33.6   \n",
      "1            1     85.0           66.0       29.00000  155.548223  26.6   \n",
      "2            8    183.0           64.0       29.15342  155.548223  23.3   \n",
      "3            1     89.0           66.0       23.00000   94.000000  28.1   \n",
      "4            0    137.0           40.0       35.00000  168.000000  43.1   \n",
      "\n",
      "   DiabetesPedigreeFunction       Age  Outcome  \n",
      "0                     0.627  0.483333        1  \n",
      "1                     0.351  0.166667        0  \n",
      "2                     0.672  0.183333        1  \n",
      "3                     0.167  0.000000        0  \n",
      "4                     2.288  0.200000        1  \n"
     ]
    }
   ],
   "source": [
    "print('\\n전처리 후 데이터프레임 상위 5개 행:')\n",
    "print(df.head())"
   ]
  },
  {
   "cell_type": "code",
   "execution_count": null,
   "metadata": {},
   "outputs": [],
   "source": []
  }
 ],
 "metadata": {
  "kernelspec": {
   "display_name": ".venv",
   "language": "python",
   "name": "python3"
  },
  "language_info": {
   "codemirror_mode": {
    "name": "ipython",
    "version": 3
   },
   "file_extension": ".py",
   "mimetype": "text/x-python",
   "name": "python",
   "nbconvert_exporter": "python",
   "pygments_lexer": "ipython3",
   "version": "3.12.2"
  }
 },
 "nbformat": 4,
 "nbformat_minor": 2
}
