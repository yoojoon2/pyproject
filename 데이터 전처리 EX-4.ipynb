{
 "cells": [
  {
   "cell_type": "code",
   "execution_count": 1,
   "metadata": {},
   "outputs": [
    {
     "name": "stdout",
     "output_type": "stream",
     "text": [
      "   workclass  education  marital-status  occupation  relationship  race  \\\n",
      "0          4          1               4           7             3     2   \n",
      "1          4         11               2           5             0     4   \n",
      "2          2          7               2          11             0     4   \n",
      "3          4         15               2           7             0     2   \n",
      "4          0         15               4           0             3     4   \n",
      "\n",
      "   gender  native-country  \n",
      "0       1              39  \n",
      "1       1              39  \n",
      "2       1              39  \n",
      "3       1              39  \n",
      "4       0              39  \n"
     ]
    }
   ],
   "source": [
    "import pandas as pd\n",
    "from sklearn.preprocessing import LabelEncoder\n",
    "\n",
    "# 1. 데이터 불러오기\n",
    "df = pd.read_csv(r'C:\\skproject\\pyproject\\adult.csv')\n",
    "\n",
    "# 2. workclass, education, marital-status, occupation, relationship, race, gender, native-country 열을 Label Encoding으로 변환\n",
    "cols = ['workclass', 'education', 'marital-status', 'occupation', 'relationship', 'race', 'gender', 'native-country']\n",
    "\n",
    "# 3. 각 컬럼별 Label Encoding 수행\n",
    "le_dict = {}\n",
    "for col in cols:\n",
    "    le = LabelEncoder()\n",
    "    df[col] = le.fit_transform(df[col].astype(str))\n",
    "    le_dict[col] = le  # 필요하면 인코더 저장 \n",
    "\n",
    "# 4. 인코딩 결과 일부 출력\n",
    "print(df[cols].head())\n"
   ]
  }
 ],
 "metadata": {
  "kernelspec": {
   "display_name": ".venv",
   "language": "python",
   "name": "python3"
  },
  "language_info": {
   "codemirror_mode": {
    "name": "ipython",
    "version": 3
   },
   "file_extension": ".py",
   "mimetype": "text/x-python",
   "name": "python",
   "nbconvert_exporter": "python",
   "pygments_lexer": "ipython3",
   "version": "3.12.2"
  }
 },
 "nbformat": 4,
 "nbformat_minor": 2
}
