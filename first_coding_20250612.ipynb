{
 "cells": [
  {
   "cell_type": "code",
   "execution_count": 4,
   "id": "2dddcb2a",
   "metadata": {},
   "outputs": [
    {
     "name": "stdout",
     "output_type": "stream",
     "text": [
      "안녕하세요\n",
      "100\n"
     ]
    }
   ],
   "source": [
    "print('안녕하세요')\n",
    "print(100)"
   ]
  },
  {
   "cell_type": "code",
   "execution_count": null,
   "id": "795b0d83",
   "metadata": {},
   "outputs": [],
   "source": []
  },
  {
   "cell_type": "code",
   "execution_count": 5,
   "id": "bfdc8930",
   "metadata": {},
   "outputs": [],
   "source": [
    "# 주석 => 코드 내부에 사용, 코드로 인식 X, 간단한 메모\n",
    "# 변수 => 데이터를 저장(메모리: 플레시메모리)하는 방식\n",
    "# 변수이름(식별자) = 값(데이터: 숫자, 문자열, 논리값(True,False), 객체)\n",
    "# 변수에는 데이터를 저장하고 있는 메모리의 주소값을 저장\n",
    "num = 10"
   ]
  },
  {
   "cell_type": "code",
   "execution_count": 6,
   "id": "612502da",
   "metadata": {},
   "outputs": [
    {
     "name": "stdout",
     "output_type": "stream",
     "text": [
      "10\n"
     ]
    }
   ],
   "source": [
    "print(num)"
   ]
  },
  {
   "cell_type": "code",
   "execution_count": 7,
   "id": "a0f4b192",
   "metadata": {},
   "outputs": [
    {
     "data": {
      "text/plain": [
       "140724388250824"
      ]
     },
     "execution_count": 7,
     "metadata": {},
     "output_type": "execute_result"
    }
   ],
   "source": [
    "id(num)"
   ]
  },
  {
   "cell_type": "code",
   "execution_count": 8,
   "id": "7b6a9bc6",
   "metadata": {},
   "outputs": [
    {
     "data": {
      "text/plain": [
       "110"
      ]
     },
     "execution_count": 8,
     "metadata": {},
     "output_type": "execute_result"
    }
   ],
   "source": [
    "num+100"
   ]
  },
  {
   "cell_type": "code",
   "execution_count": 10,
   "id": "bbde819a",
   "metadata": {},
   "outputs": [],
   "source": [
    "# 변수 = 데이터\n",
    "# 데이터 => 숫자, 문자, 논리값\n",
    "# 숫자 => 정수, 실수\n",
    "num1 = 10\n",
    "num2 = 3.14"
   ]
  },
  {
   "cell_type": "code",
   "execution_count": 13,
   "id": "01e7ea84",
   "metadata": {},
   "outputs": [
    {
     "name": "stdout",
     "output_type": "stream",
     "text": [
      "<class 'int'>\n",
      "<class 'float'>\n"
     ]
    }
   ],
   "source": [
    "print(type(num1))\n",
    "print(type(num2))"
   ]
  },
  {
   "cell_type": "code",
   "execution_count": 14,
   "id": "f4012637",
   "metadata": {},
   "outputs": [],
   "source": [
    "num3 = 'hello~'"
   ]
  },
  {
   "cell_type": "code",
   "execution_count": 16,
   "id": "c0394888",
   "metadata": {},
   "outputs": [
    {
     "name": "stdout",
     "output_type": "stream",
     "text": [
      "hello~\n",
      "<class 'str'>\n"
     ]
    }
   ],
   "source": [
    "print(num3)\n",
    "print(type(num3))"
   ]
  },
  {
   "cell_type": "code",
   "execution_count": 17,
   "id": "fcfeba11",
   "metadata": {},
   "outputs": [],
   "source": [
    "# 논리값 : 참, 거짓 => True, False\n",
    "check1 = True\n",
    "check2 = False"
   ]
  },
  {
   "cell_type": "code",
   "execution_count": 19,
   "id": "49eae5c4",
   "metadata": {},
   "outputs": [
    {
     "name": "stdout",
     "output_type": "stream",
     "text": [
      "True <class 'bool'>\n",
      "False <class 'bool'>\n"
     ]
    }
   ],
   "source": [
    "print(check1, type(check1))\n",
    "print(check2, type(check2))"
   ]
  },
  {
   "cell_type": "code",
   "execution_count": 25,
   "id": "9bb13562",
   "metadata": {},
   "outputs": [],
   "source": [
    "str_a = 'python'"
   ]
  },
  {
   "cell_type": "code",
   "execution_count": 26,
   "id": "583415e3",
   "metadata": {},
   "outputs": [
    {
     "data": {
      "text/plain": [
       "'PYTHON'"
      ]
     },
     "execution_count": 26,
     "metadata": {},
     "output_type": "execute_result"
    }
   ],
   "source": [
    "str_a.upper()\n",
    "# 주소값.메서드()"
   ]
  },
  {
   "cell_type": "code",
   "execution_count": 27,
   "id": "71baeb4a",
   "metadata": {},
   "outputs": [
    {
     "name": "stdout",
     "output_type": "stream",
     "text": [
      "<class 'str'>\n"
     ]
    }
   ],
   "source": [
    "print(type(str_a))"
   ]
  },
  {
   "cell_type": "code",
   "execution_count": 28,
   "id": "9e89112c",
   "metadata": {},
   "outputs": [],
   "source": [
    "str_a = 100"
   ]
  },
  {
   "cell_type": "code",
   "execution_count": 29,
   "id": "31c5e1e3",
   "metadata": {},
   "outputs": [
    {
     "name": "stdout",
     "output_type": "stream",
     "text": [
      "100 <class 'int'>\n"
     ]
    }
   ],
   "source": [
    "print(str_a, type(str_a))"
   ]
  },
  {
   "cell_type": "code",
   "execution_count": 30,
   "id": "b1243e8a",
   "metadata": {},
   "outputs": [],
   "source": [
    "# 문자열 생성\n",
    "# '', \"\", ''' ''', \"\"\" \"\"\"\n",
    "str_1 = 'hello~'\n",
    "str_2 = \"안녕하세요\"\n",
    "str_3 = '''첫째 라인\n",
    "안녕하세요\n",
    "반갑습니다.\n",
    "'''\n",
    "str_4 = \"\"\"\n",
    "select *\n",
    "from emp\n",
    "where empno=10\n",
    "\"\"\""
   ]
  },
  {
   "cell_type": "code",
   "execution_count": 35,
   "id": "ac8dfb1f",
   "metadata": {},
   "outputs": [
    {
     "name": "stdout",
     "output_type": "stream",
     "text": [
      "hello~ <class 'str'>\n",
      "안녕하세요 <class 'str'>\n",
      "첫째 라인\n",
      "안녕하세요\n",
      "반갑습니다.\n",
      " <class 'str'>\n",
      "\n",
      "select *\n",
      "from emp\n",
      "where empno=10\n",
      " <class 'str'>\n"
     ]
    }
   ],
   "source": [
    "print(str_1, type(str_1))\n",
    "print(str_2, type(str_2))\n",
    "print(str_3, type(str_3))\n",
    "print(str_4, type(str_4))"
   ]
  },
  {
   "cell_type": "code",
   "execution_count": 37,
   "id": "82033e93",
   "metadata": {},
   "outputs": [
    {
     "name": "stdout",
     "output_type": "stream",
     "text": [
      "hello python!!\n",
      "==========\n"
     ]
    }
   ],
   "source": [
    "# 문자열의 연산\n",
    "# 사칙연산 X => 더하기(연결)\n",
    "# 곱샘 * => 반복(몇번 반복)\n",
    "print('hello'+' python!!')\n",
    "print('='*10)"
   ]
  },
  {
   "cell_type": "code",
   "execution_count": 40,
   "id": "59bdbdf3",
   "metadata": {},
   "outputs": [
    {
     "name": "stdout",
     "output_type": "stream",
     "text": [
      "6\n",
      "5\n"
     ]
    }
   ],
   "source": [
    "# 함수(기능) : 데이터 전달하면 -> 처리(연산) -> 값을 반환\n",
    "# 문자열의 길이 반환 함수 : len(변수:시퀀스형식의 데이터)\n",
    "print(len(str_1))\n",
    "print(len(str_2))"
   ]
  },
  {
   "cell_type": "code",
   "execution_count": null,
   "id": "d0c47451",
   "metadata": {},
   "outputs": [],
   "source": [
    "# 문자열 : 시퀀스 데이터 => 순서 O\n",
    "# 시퀀스 데이터의 테이터들의 구분 => index값\n",
    "# hello => ['h', 'e', 'l', 'l', 'o']\n",
    "#   index => 0    1    2    3    4   => 0 ~ N-1 => 0~4\n",
    "str_5 = 'hello~ python!!'\n",
    "#        0123456789.."
   ]
  },
  {
   "cell_type": "code",
   "execution_count": 43,
   "id": "9b037761",
   "metadata": {},
   "outputs": [
    {
     "data": {
      "text/plain": [
       "'~'"
      ]
     },
     "execution_count": 43,
     "metadata": {},
     "output_type": "execute_result"
    }
   ],
   "source": [
    "str_5[5]"
   ]
  },
  {
   "cell_type": "code",
   "execution_count": 44,
   "id": "d3476b85",
   "metadata": {},
   "outputs": [
    {
     "data": {
      "text/plain": [
       "'hello'"
      ]
     },
     "execution_count": 44,
     "metadata": {},
     "output_type": "execute_result"
    }
   ],
   "source": [
    "# 문자열(시퀀스)의 슬라이싱\n",
    "# s[시작 index : 종료 index]   => 종료 index값을 만나면 탈출\n",
    "# str_5[0 : 5]\n",
    "str_5[0 : 5]"
   ]
  },
  {
   "cell_type": "code",
   "execution_count": 46,
   "id": "bd9990de",
   "metadata": {},
   "outputs": [
    {
     "name": "stdout",
     "output_type": "stream",
     "text": [
      "안녕하세요! 저는 손흥민입니다. 나이는 30 입니다.\n"
     ]
    }
   ],
   "source": [
    "# 문자열 포맷팅\n",
    "# 3.6 버전 이후 f\"\"  , 접두사 f 붙이고 포맷팅\n",
    "user_name = '손흥민'\n",
    "user_age = 30\n",
    "print(f'안녕하세요! 저는 {user_name}입니다. 나이는 {user_age} 입니다.')"
   ]
  },
  {
   "cell_type": "code",
   "execution_count": 47,
   "id": "72b0e775",
   "metadata": {},
   "outputs": [
    {
     "name": "stdout",
     "output_type": "stream",
     "text": [
      "내년에는 나이가 31살이 됩니다.\n"
     ]
    }
   ],
   "source": [
    "print(f'내년에는 나이가 {user_age+1}살이 됩니다.')"
   ]
  },
  {
   "cell_type": "code",
   "execution_count": 48,
   "id": "e95231b0",
   "metadata": {},
   "outputs": [],
   "source": [
    "# 복합 대입 연산\n",
    "num = 1"
   ]
  },
  {
   "cell_type": "code",
   "execution_count": 49,
   "id": "765f5ea2",
   "metadata": {},
   "outputs": [],
   "source": [
    "num = num + 1"
   ]
  },
  {
   "cell_type": "code",
   "execution_count": 50,
   "id": "dd4f8f6e",
   "metadata": {},
   "outputs": [
    {
     "name": "stdout",
     "output_type": "stream",
     "text": [
      "2\n"
     ]
    }
   ],
   "source": [
    "print(num)"
   ]
  },
  {
   "cell_type": "code",
   "execution_count": 51,
   "id": "c36ad425",
   "metadata": {},
   "outputs": [],
   "source": [
    "num += 1  # num = num + 1"
   ]
  },
  {
   "cell_type": "code",
   "execution_count": 52,
   "id": "4a8336ec",
   "metadata": {},
   "outputs": [
    {
     "name": "stdout",
     "output_type": "stream",
     "text": [
      "3\n"
     ]
    }
   ],
   "source": [
    "print(num)"
   ]
  },
  {
   "cell_type": "markdown",
   "id": "348925d8",
   "metadata": {},
   "source": [
    "### 연습문제 1\n",
    "과목별 점수, 총점, 평균점수 출력\n",
    "과목 : 국어, 영어, 수학"
   ]
  },
  {
   "cell_type": "code",
   "execution_count": null,
   "id": "41ef7bca",
   "metadata": {},
   "outputs": [],
   "source": [
    "# 1. 변수 선언, 초기화\n",
    "kor_score = 100     # 국어점수\n",
    "eng_score = 70      # 영어점수\n",
    "math_score = 80     # 수학점수"
   ]
  },
  {
   "cell_type": "code",
   "execution_count": null,
   "id": "d9e06c15",
   "metadata": {},
   "outputs": [],
   "source": [
    "# 2. 연산 : 총점, 평균\n",
    "sum_score = kor_score + eng_score + math_score\n",
    "avg_score = sum_score / 3"
   ]
  },
  {
   "cell_type": "code",
   "execution_count": 56,
   "id": "d23a856c",
   "metadata": {},
   "outputs": [
    {
     "name": "stdout",
     "output_type": "stream",
     "text": [
      "국어점수:100, 영어점수:70, 수학점수: 80 \n",
      "총점:250 \n",
      "평균점수:83.33333333333333\n"
     ]
    }
   ],
   "source": [
    "# 3. 결과 출력\n",
    "print(f'국어점수:{kor_score}, 영어점수:{eng_score}, 수학점수: {math_score} \\n총점:{sum_score} \\n평균점수:{avg_score}')"
   ]
  },
  {
   "cell_type": "code",
   "execution_count": 60,
   "id": "a7475686",
   "metadata": {},
   "outputs": [],
   "source": [
    "# 성별 체크, 나이 체크\n",
    "# 성별이 남성이고(and), 성인 판별 (18살 이상)\n",
    "# 1. 변수\n",
    "gender = 'M'  # 셩별 : 'M' | 'F'\n",
    "age = 20"
   ]
  },
  {
   "cell_type": "code",
   "execution_count": 61,
   "id": "881a7dcd",
   "metadata": {},
   "outputs": [],
   "source": [
    "# 2. 남성 그리고 성인\n",
    "check = gender == 'M' and age >= 18"
   ]
  },
  {
   "cell_type": "code",
   "execution_count": 62,
   "id": "1a6afea5",
   "metadata": {},
   "outputs": [
    {
     "name": "stdout",
     "output_type": "stream",
     "text": [
      "성인 남성 체크 : True\n"
     ]
    }
   ],
   "source": [
    "print('성인 남성 체크 :', check)"
   ]
  },
  {
   "cell_type": "code",
   "execution_count": 4,
   "id": "ac85210c",
   "metadata": {},
   "outputs": [],
   "source": [
    "# 리스트 : [] =>  순서를 가지는 데이터 묶음\n",
    "# index 값으로 요소들을 참조 => 0 ~ N(요소의 개수)-1\n",
    "list_a = [1,2,3]\n",
    "# index   0 1 2\n",
    "# 요소의 개수 : 3"
   ]
  },
  {
   "cell_type": "code",
   "execution_count": 5,
   "id": "3df0800b",
   "metadata": {},
   "outputs": [
    {
     "name": "stdout",
     "output_type": "stream",
     "text": [
      "[1, 2, 3] <class 'list'>\n"
     ]
    }
   ],
   "source": [
    "print(list_a, type(list_a))"
   ]
  },
  {
   "cell_type": "code",
   "execution_count": 6,
   "id": "c509c88b",
   "metadata": {},
   "outputs": [],
   "source": [
    "# bool(), int(), float(), str(), list()"
   ]
  },
  {
   "cell_type": "code",
   "execution_count": 7,
   "id": "df9db910",
   "metadata": {},
   "outputs": [
    {
     "data": {
      "text/plain": [
       "3"
      ]
     },
     "execution_count": 7,
     "metadata": {},
     "output_type": "execute_result"
    }
   ],
   "source": [
    "# 요소의 참조 : 변수처럼 사용\n",
    "list_a[2]"
   ]
  },
  {
   "cell_type": "code",
   "execution_count": 10,
   "id": "df769462",
   "metadata": {},
   "outputs": [
    {
     "data": {
      "text/plain": [
       "3"
      ]
     },
     "execution_count": 10,
     "metadata": {},
     "output_type": "execute_result"
    }
   ],
   "source": [
    "list_a[0] + list_a[1]  # 1 + 2"
   ]
  },
  {
   "cell_type": "code",
   "execution_count": 8,
   "id": "4d714b2f",
   "metadata": {},
   "outputs": [],
   "source": [
    "list_a[2] = 4"
   ]
  },
  {
   "cell_type": "code",
   "execution_count": 9,
   "id": "80df1eb3",
   "metadata": {},
   "outputs": [
    {
     "data": {
      "text/plain": [
       "[1, 2, 4]"
      ]
     },
     "execution_count": 9,
     "metadata": {},
     "output_type": "execute_result"
    }
   ],
   "source": [
    "list_a"
   ]
  },
  {
   "cell_type": "markdown",
   "id": "46fc1fde",
   "metadata": {},
   "source": [
    "### 2025.06.10"
   ]
  },
  {
   "cell_type": "code",
   "execution_count": 12,
   "id": "2bf57d9c",
   "metadata": {},
   "outputs": [
    {
     "data": {
      "text/plain": [
       "2"
      ]
     },
     "execution_count": 12,
     "metadata": {},
     "output_type": "execute_result"
    }
   ],
   "source": [
    "list_a[-2]"
   ]
  },
  {
   "cell_type": "code",
   "execution_count": 15,
   "id": "0ee8e58f",
   "metadata": {},
   "outputs": [
    {
     "data": {
      "text/plain": [
       "4"
      ]
     },
     "execution_count": 15,
     "metadata": {},
     "output_type": "execute_result"
    }
   ],
   "source": [
    "list_a[ len(list_a)-1 ]  # N-1"
   ]
  },
  {
   "cell_type": "code",
   "execution_count": null,
   "id": "6a619129",
   "metadata": {},
   "outputs": [],
   "source": [
    "list_b = [ 1, 2, 3, ['a', 'b', 'c']]\n",
    "#          0  1  2         3\n",
    "#         [int, int, int, list]"
   ]
  },
  {
   "cell_type": "code",
   "execution_count": 17,
   "id": "5b2ad9d2",
   "metadata": {},
   "outputs": [
    {
     "data": {
      "text/plain": [
       "4"
      ]
     },
     "execution_count": 17,
     "metadata": {},
     "output_type": "execute_result"
    }
   ],
   "source": [
    "len(list_b)"
   ]
  },
  {
   "cell_type": "code",
   "execution_count": null,
   "id": "8ca853d2",
   "metadata": {},
   "outputs": [
    {
     "name": "stdout",
     "output_type": "stream",
     "text": [
      "1\n",
      "2\n",
      "3\n",
      "['a', 'b', 'c']\n",
      "a b c\n"
     ]
    }
   ],
   "source": [
    "print(list_b[0])\n",
    "print(list_b[1])\n",
    "print(list_b[2])\n",
    "print(list_b[3])  # list\n",
    "print(list_b[3][0], list_b[3][1], list_b[3][2])\n",
    "#     list를 가릐는 주소값[index]"
   ]
  },
  {
   "cell_type": "code",
   "execution_count": 25,
   "id": "37333dcb",
   "metadata": {},
   "outputs": [],
   "source": [
    "# 슬라이싱\n",
    "list_c = [1, 2, 3, 4, 5]\n",
    "#         0  1  2  3  4"
   ]
  },
  {
   "cell_type": "code",
   "execution_count": 31,
   "id": "1fb65905",
   "metadata": {},
   "outputs": [
    {
     "data": {
      "text/plain": [
       "[1, 2, 3, 4, 5]"
      ]
     },
     "execution_count": 31,
     "metadata": {},
     "output_type": "execute_result"
    }
   ],
   "source": [
    "list_c[1:4]\n",
    "list_c[:4]  #  list_c[0:4]\n",
    "list_c[1:]  # list_c[1:5]\n",
    "list_c[:]\n",
    "list_c"
   ]
  },
  {
   "cell_type": "code",
   "execution_count": 32,
   "id": "575115af",
   "metadata": {},
   "outputs": [],
   "source": [
    "# list의 연산 :  + , * \n",
    "list_d = [100, 200, 300]"
   ]
  },
  {
   "cell_type": "code",
   "execution_count": null,
   "id": "c4139daa",
   "metadata": {},
   "outputs": [
    {
     "data": {
      "text/plain": [
       "[100, 200, 300]"
      ]
     },
     "execution_count": 38,
     "metadata": {},
     "output_type": "execute_result"
    }
   ],
   "source": [
    "list_c\n",
    "list_d\n",
    "list_c + list_d # 새로운 리스트 생성\n",
    "list_d + list_c # 새로운 리스트 생성\n",
    "list_c\n",
    "list_d"
   ]
  },
  {
   "cell_type": "code",
   "execution_count": 39,
   "id": "fbd1acb0",
   "metadata": {},
   "outputs": [
    {
     "data": {
      "text/plain": [
       "[100, 200, 300, 100, 200, 300, 100, 200, 300]"
      ]
     },
     "execution_count": 39,
     "metadata": {},
     "output_type": "execute_result"
    }
   ],
   "source": [
    "# * : 리스트의 요소를 n번 반복해서 저장 -> 새로운 리스트\n",
    "list_d * 3"
   ]
  },
  {
   "cell_type": "code",
   "execution_count": 40,
   "id": "cec15421",
   "metadata": {},
   "outputs": [],
   "source": [
    "# 리스트에 요소(데이터) 추가 : 순서 => 마지막 인덱스 다음에 데이터 추가 \n",
    "# append() : 메서드 => 리스트의 마지막에 데이터 추가 \n",
    "list_a = [1, 2, 3]"
   ]
  },
  {
   "cell_type": "code",
   "execution_count": 44,
   "id": "930720ca",
   "metadata": {},
   "outputs": [],
   "source": [
    "list_a.append(500)\n",
    "# 객체(list)"
   ]
  },
  {
   "cell_type": "code",
   "execution_count": 50,
   "id": "c51746c3",
   "metadata": {},
   "outputs": [
    {
     "data": {
      "text/plain": [
       "1"
      ]
     },
     "execution_count": 50,
     "metadata": {},
     "output_type": "execute_result"
    }
   ],
   "source": [
    "# pop : 마지막 요소 축출 -> 삭제, 값을 반환\n",
    "# list_a.pop()\n",
    "list_a.pop(0)"
   ]
  },
  {
   "cell_type": "code",
   "execution_count": 51,
   "id": "2422581c",
   "metadata": {},
   "outputs": [
    {
     "data": {
      "text/plain": [
       "[2, 3]"
      ]
     },
     "execution_count": 51,
     "metadata": {},
     "output_type": "execute_result"
    }
   ],
   "source": [
    "list_a"
   ]
  },
  {
   "cell_type": "code",
   "execution_count": 52,
   "id": "789e61d9",
   "metadata": {},
   "outputs": [],
   "source": [
    "list_a = [1, 4, 9, 2, 10]"
   ]
  },
  {
   "cell_type": "code",
   "execution_count": 53,
   "id": "60c6c62a",
   "metadata": {},
   "outputs": [],
   "source": [
    "list_a.sort()"
   ]
  },
  {
   "cell_type": "code",
   "execution_count": 54,
   "id": "023d636b",
   "metadata": {},
   "outputs": [
    {
     "data": {
      "text/plain": [
       "[1, 2, 4, 9, 10]"
      ]
     },
     "execution_count": 54,
     "metadata": {},
     "output_type": "execute_result"
    }
   ],
   "source": [
    "list_a"
   ]
  },
  {
   "cell_type": "code",
   "execution_count": 55,
   "id": "7c4e9b38",
   "metadata": {},
   "outputs": [
    {
     "data": {
      "text/plain": [
       "[10, 9, 4, 2, 1]"
      ]
     },
     "execution_count": 55,
     "metadata": {},
     "output_type": "execute_result"
    }
   ],
   "source": [
    "list_a.reverse()\n",
    "list_a"
   ]
  },
  {
   "cell_type": "code",
   "execution_count": 58,
   "id": "4a18adbe",
   "metadata": {},
   "outputs": [
    {
     "data": {
      "text/plain": [
       "2"
      ]
     },
     "execution_count": 58,
     "metadata": {},
     "output_type": "execute_result"
    }
   ],
   "source": [
    "list_a.index(4)"
   ]
  },
  {
   "cell_type": "code",
   "execution_count": 59,
   "id": "5b623283",
   "metadata": {},
   "outputs": [],
   "source": [
    "list_a.insert(1, 100)"
   ]
  },
  {
   "cell_type": "code",
   "execution_count": 61,
   "id": "ed61e373",
   "metadata": {},
   "outputs": [
    {
     "data": {
      "text/plain": [
       "[10, 100, 9, 4, 2, 1]"
      ]
     },
     "execution_count": 61,
     "metadata": {},
     "output_type": "execute_result"
    }
   ],
   "source": [
    "list_a"
   ]
  },
  {
   "cell_type": "code",
   "execution_count": 63,
   "id": "7f7ee490",
   "metadata": {},
   "outputs": [],
   "source": [
    "list_a.extend(list_d)"
   ]
  },
  {
   "cell_type": "code",
   "execution_count": 64,
   "id": "f9d2c45a",
   "metadata": {},
   "outputs": [
    {
     "data": {
      "text/plain": [
       "[10, 100, 9, 4, 2, 1, 100, 200, 300]"
      ]
     },
     "execution_count": 64,
     "metadata": {},
     "output_type": "execute_result"
    }
   ],
   "source": [
    "list_a"
   ]
  },
  {
   "cell_type": "code",
   "execution_count": 66,
   "id": "2e0023ec",
   "metadata": {},
   "outputs": [
    {
     "name": "stdout",
     "output_type": "stream",
     "text": [
      "<class 'tuple'>\n"
     ]
    }
   ],
   "source": [
    "# tuple : list와 동일, \n",
    "# 단 요소(데이터) 변경은 불가능 -> 데이터 안전하게 유지\n",
    "t_1 = ()\n",
    "print(type(t_1))"
   ]
  },
  {
   "cell_type": "code",
   "execution_count": 73,
   "id": "79b543ae",
   "metadata": {},
   "outputs": [],
   "source": [
    "t_2 = (1,2,3,4)\n",
    "t_3 = 10,20,30,40"
   ]
  },
  {
   "cell_type": "code",
   "execution_count": 75,
   "id": "b0c59227",
   "metadata": {},
   "outputs": [
    {
     "data": {
      "text/plain": [
       "tuple"
      ]
     },
     "execution_count": 75,
     "metadata": {},
     "output_type": "execute_result"
    }
   ],
   "source": [
    "type(t_3)"
   ]
  },
  {
   "cell_type": "code",
   "execution_count": 78,
   "id": "89f3dde5",
   "metadata": {},
   "outputs": [
    {
     "data": {
      "text/plain": [
       "10"
      ]
     },
     "execution_count": 78,
     "metadata": {},
     "output_type": "execute_result"
    }
   ],
   "source": [
    "t_3[0]"
   ]
  },
  {
   "cell_type": "code",
   "execution_count": 79,
   "id": "5e55b2c3",
   "metadata": {},
   "outputs": [
    {
     "ename": "TypeError",
     "evalue": "'tuple' object does not support item assignment",
     "output_type": "error",
     "traceback": [
      "\u001b[31m---------------------------------------------------------------------------\u001b[39m",
      "\u001b[31mTypeError\u001b[39m                                 Traceback (most recent call last)",
      "\u001b[36mCell\u001b[39m\u001b[36m \u001b[39m\u001b[32mIn[79]\u001b[39m\u001b[32m, line 1\u001b[39m\n\u001b[32m----> \u001b[39m\u001b[32m1\u001b[39m \u001b[43mt_2\u001b[49m\u001b[43m[\u001b[49m\u001b[32;43m0\u001b[39;49m\u001b[43m]\u001b[49m = \u001b[32m100\u001b[39m\n",
      "\u001b[31mTypeError\u001b[39m: 'tuple' object does not support item assignment"
     ]
    }
   ],
   "source": [
    "t_2[0] = 100"
   ]
  },
  {
   "cell_type": "code",
   "execution_count": 80,
   "id": "dfa7c813",
   "metadata": {},
   "outputs": [
    {
     "ename": "TypeError",
     "evalue": "'tuple' object doesn't support item deletion",
     "output_type": "error",
     "traceback": [
      "\u001b[31m---------------------------------------------------------------------------\u001b[39m",
      "\u001b[31mTypeError\u001b[39m                                 Traceback (most recent call last)",
      "\u001b[36mCell\u001b[39m\u001b[36m \u001b[39m\u001b[32mIn[80]\u001b[39m\u001b[32m, line 1\u001b[39m\n\u001b[32m----> \u001b[39m\u001b[32m1\u001b[39m \u001b[38;5;28;01mdel\u001b[39;00m \u001b[43mt_2\u001b[49m\u001b[43m[\u001b[49m\u001b[32;43m0\u001b[39;49m\u001b[43m]\u001b[49m\n",
      "\u001b[31mTypeError\u001b[39m: 'tuple' object doesn't support item deletion"
     ]
    }
   ],
   "source": [
    "del t_2[0]"
   ]
  },
  {
   "cell_type": "code",
   "execution_count": 82,
   "id": "81cc9527",
   "metadata": {},
   "outputs": [
    {
     "data": {
      "text/plain": [
       "(20, 30)"
      ]
     },
     "execution_count": 82,
     "metadata": {},
     "output_type": "execute_result"
    }
   ],
   "source": [
    "t_3[1:3]"
   ]
  },
  {
   "cell_type": "code",
   "execution_count": null,
   "id": "6ac6903d",
   "metadata": {},
   "outputs": [],
   "source": [
    "a, b, c = 1000, 2000, 3000  # 특정함수에서 반환 데이터 tuple 타입"
   ]
  },
  {
   "cell_type": "code",
   "execution_count": 84,
   "id": "2dc7318b",
   "metadata": {},
   "outputs": [
    {
     "name": "stdout",
     "output_type": "stream",
     "text": [
      "1000 2000 3000\n"
     ]
    }
   ],
   "source": [
    "print(a, b, c)"
   ]
  },
  {
   "cell_type": "code",
   "execution_count": 85,
   "id": "b68587e8",
   "metadata": {},
   "outputs": [
    {
     "data": {
      "text/plain": [
       "(1, 2, 3, 4, 10, 20, 30, 40)"
      ]
     },
     "execution_count": 85,
     "metadata": {},
     "output_type": "execute_result"
    }
   ],
   "source": [
    "t_2+t_3"
   ]
  },
  {
   "cell_type": "code",
   "execution_count": 86,
   "id": "87214f27",
   "metadata": {},
   "outputs": [
    {
     "data": {
      "text/plain": [
       "(1, 2, 3, 4, 1, 2, 3, 4, 1, 2, 3, 4)"
      ]
     },
     "execution_count": 86,
     "metadata": {},
     "output_type": "execute_result"
    }
   ],
   "source": [
    "t_2*3"
   ]
  },
  {
   "cell_type": "code",
   "execution_count": 89,
   "id": "370e1d52",
   "metadata": {},
   "outputs": [
    {
     "name": "stdout",
     "output_type": "stream",
     "text": [
      "<class 'dict'>\n",
      "{}\n"
     ]
    }
   ],
   "source": [
    "# 딕셔너리 : key : value => key 값으로 데이터를 참조\n",
    "# { key1:value1, key2:value2, .... }\n",
    "dict_1 = {}\n",
    "print(type(dict_1))\n",
    "print(dict_1)"
   ]
  },
  {
   "cell_type": "code",
   "execution_count": 90,
   "id": "6aae92f2",
   "metadata": {},
   "outputs": [
    {
     "name": "stdout",
     "output_type": "stream",
     "text": [
      "{1: 'a'}\n",
      "<class 'dict'>\n"
     ]
    }
   ],
   "source": [
    "dict_2 = {1 : 'a'}\n",
    "print(dict_2)\n",
    "print(type(dict_2))"
   ]
  },
  {
   "cell_type": "code",
   "execution_count": 91,
   "id": "ae966946",
   "metadata": {},
   "outputs": [
    {
     "data": {
      "text/plain": [
       "{1: 'a', 2: 'b'}"
      ]
     },
     "execution_count": 91,
     "metadata": {},
     "output_type": "execute_result"
    }
   ],
   "source": [
    "# 요소값 추가 => key 정의, 값 정의\n",
    "dict_2[2] = 'b'\n",
    "dict_2"
   ]
  },
  {
   "cell_type": "code",
   "execution_count": 93,
   "id": "3382f3cb",
   "metadata": {},
   "outputs": [
    {
     "data": {
      "text/plain": [
       "'b'"
      ]
     },
     "execution_count": 93,
     "metadata": {},
     "output_type": "execute_result"
    }
   ],
   "source": [
    "dict_2[2]"
   ]
  },
  {
   "cell_type": "code",
   "execution_count": 94,
   "id": "59e667d6",
   "metadata": {},
   "outputs": [],
   "source": [
    "dict_2[3] = (1,2,3)"
   ]
  },
  {
   "cell_type": "code",
   "execution_count": 97,
   "id": "e521d17a",
   "metadata": {},
   "outputs": [],
   "source": [
    "del dict_2[3]"
   ]
  },
  {
   "cell_type": "code",
   "execution_count": 98,
   "id": "76fbe2b1",
   "metadata": {},
   "outputs": [
    {
     "data": {
      "text/plain": [
       "{1: 'a', 2: 'b'}"
      ]
     },
     "execution_count": 98,
     "metadata": {},
     "output_type": "execute_result"
    }
   ],
   "source": [
    "dict_2"
   ]
  },
  {
   "cell_type": "code",
   "execution_count": 99,
   "id": "11c6140b",
   "metadata": {},
   "outputs": [],
   "source": [
    "# 학생 : 학번, 이름, 학년, 학과 => 데이터의 구조화화\n",
    "student_1 = {\n",
    "    's_no': 1111,\n",
    "    's_name': 'KING',\n",
    "    'grade': 4,\n",
    "    'major': 'COM'\n",
    "}"
   ]
  },
  {
   "cell_type": "code",
   "execution_count": 102,
   "id": "eb0b1166",
   "metadata": {},
   "outputs": [
    {
     "data": {
      "text/plain": [
       "4"
      ]
     },
     "execution_count": 102,
     "metadata": {},
     "output_type": "execute_result"
    }
   ],
   "source": [
    "student_1['grade']"
   ]
  },
  {
   "cell_type": "code",
   "execution_count": 103,
   "id": "4e46ff1d",
   "metadata": {},
   "outputs": [],
   "source": [
    "player = {\n",
    "    'team': 'TO',\n",
    "    'name': 'SON',\n",
    "    'number': 7\n",
    "}"
   ]
  },
  {
   "cell_type": "code",
   "execution_count": 104,
   "id": "e79b2812",
   "metadata": {},
   "outputs": [
    {
     "data": {
      "text/plain": [
       "dict_keys(['team', 'name', 'number'])"
      ]
     },
     "execution_count": 104,
     "metadata": {},
     "output_type": "execute_result"
    }
   ],
   "source": [
    "player.keys()"
   ]
  },
  {
   "cell_type": "code",
   "execution_count": 105,
   "id": "2bd03c85",
   "metadata": {},
   "outputs": [
    {
     "data": {
      "text/plain": [
       "['team', 'name', 'number']"
      ]
     },
     "execution_count": 105,
     "metadata": {},
     "output_type": "execute_result"
    }
   ],
   "source": [
    "list(player.keys())"
   ]
  },
  {
   "cell_type": "code",
   "execution_count": 106,
   "id": "2eb29e56",
   "metadata": {},
   "outputs": [
    {
     "data": {
      "text/plain": [
       "dict_values(['TO', 'SON', 7])"
      ]
     },
     "execution_count": 106,
     "metadata": {},
     "output_type": "execute_result"
    }
   ],
   "source": [
    "player.values()"
   ]
  },
  {
   "cell_type": "code",
   "execution_count": 107,
   "id": "3b47478f",
   "metadata": {},
   "outputs": [
    {
     "data": {
      "text/plain": [
       "['TO', 'SON', 7]"
      ]
     },
     "execution_count": 107,
     "metadata": {},
     "output_type": "execute_result"
    }
   ],
   "source": [
    "list(player.values())"
   ]
  },
  {
   "cell_type": "code",
   "execution_count": 110,
   "id": "fa1f71e4",
   "metadata": {},
   "outputs": [
    {
     "data": {
      "text/plain": [
       "False"
      ]
     },
     "execution_count": 110,
     "metadata": {},
     "output_type": "execute_result"
    }
   ],
   "source": [
    "'age' in player"
   ]
  },
  {
   "cell_type": "code",
   "execution_count": 111,
   "id": "e864a58d",
   "metadata": {},
   "outputs": [
    {
     "data": {
      "text/plain": [
       "dict_items([('team', 'TO'), ('name', 'SON'), ('number', 7)])"
      ]
     },
     "execution_count": 111,
     "metadata": {},
     "output_type": "execute_result"
    }
   ],
   "source": [
    "player.items()"
   ]
  },
  {
   "cell_type": "code",
   "execution_count": 112,
   "id": "88f6d1d8",
   "metadata": {},
   "outputs": [],
   "source": [
    "list_temp = list(player.items())"
   ]
  },
  {
   "cell_type": "code",
   "execution_count": 117,
   "id": "b7a78181",
   "metadata": {},
   "outputs": [
    {
     "data": {
      "text/plain": [
       "[('team', 'TO'), ('name', 'SON'), ('number', 7)]"
      ]
     },
     "execution_count": 117,
     "metadata": {},
     "output_type": "execute_result"
    }
   ],
   "source": [
    "list_temp"
   ]
  },
  {
   "cell_type": "code",
   "execution_count": 118,
   "id": "6bc7a535",
   "metadata": {},
   "outputs": [
    {
     "data": {
      "text/plain": [
       "'SON'"
      ]
     },
     "execution_count": 118,
     "metadata": {},
     "output_type": "execute_result"
    }
   ],
   "source": [
    "player['name']"
   ]
  },
  {
   "cell_type": "code",
   "execution_count": 120,
   "id": "07ba667f",
   "metadata": {},
   "outputs": [
    {
     "ename": "KeyError",
     "evalue": "'pos'",
     "output_type": "error",
     "traceback": [
      "\u001b[31m---------------------------------------------------------------------------\u001b[39m",
      "\u001b[31mKeyError\u001b[39m                                  Traceback (most recent call last)",
      "\u001b[36mCell\u001b[39m\u001b[36m \u001b[39m\u001b[32mIn[120]\u001b[39m\u001b[32m, line 1\u001b[39m\n\u001b[32m----> \u001b[39m\u001b[32m1\u001b[39m \u001b[43mplayer\u001b[49m\u001b[43m[\u001b[49m\u001b[33;43m'\u001b[39;49m\u001b[33;43mpos\u001b[39;49m\u001b[33;43m'\u001b[39;49m\u001b[43m]\u001b[49m\n",
      "\u001b[31mKeyError\u001b[39m: 'pos'"
     ]
    }
   ],
   "source": [
    "player['pos']"
   ]
  },
  {
   "cell_type": "code",
   "execution_count": 121,
   "id": "a867e02c",
   "metadata": {},
   "outputs": [
    {
     "data": {
      "text/plain": [
       "'SON'"
      ]
     },
     "execution_count": 121,
     "metadata": {},
     "output_type": "execute_result"
    }
   ],
   "source": [
    "player.get('name')"
   ]
  },
  {
   "cell_type": "code",
   "execution_count": 123,
   "id": "c2748435",
   "metadata": {},
   "outputs": [],
   "source": [
    "pos = player.get('pos')"
   ]
  },
  {
   "cell_type": "code",
   "execution_count": 124,
   "id": "ddcb8f7c",
   "metadata": {},
   "outputs": [
    {
     "name": "stdout",
     "output_type": "stream",
     "text": [
      "None\n"
     ]
    }
   ],
   "source": [
    "print(pos)"
   ]
  },
  {
   "cell_type": "code",
   "execution_count": 125,
   "id": "64176b70",
   "metadata": {},
   "outputs": [],
   "source": [
    "pos1 = player.get('pos', 'no pos')"
   ]
  },
  {
   "cell_type": "code",
   "execution_count": 126,
   "id": "80b41c44",
   "metadata": {},
   "outputs": [
    {
     "name": "stdout",
     "output_type": "stream",
     "text": [
      "no pos\n"
     ]
    }
   ],
   "source": [
    "print(pos1)"
   ]
  },
  {
   "cell_type": "code",
   "execution_count": 127,
   "id": "109520b0",
   "metadata": {},
   "outputs": [
    {
     "data": {
      "text/plain": [
       "{1, 2, 3, 4, 5}"
      ]
     },
     "execution_count": 127,
     "metadata": {},
     "output_type": "execute_result"
    }
   ],
   "source": [
    "# set : 집합 => 중복 X, 순서 X, 집합 연산 사용\n",
    "s_1 = set([1,2,3,4,1,2,5])\n",
    "s_1"
   ]
  },
  {
   "cell_type": "code",
   "execution_count": 128,
   "id": "91e29cfc",
   "metadata": {},
   "outputs": [
    {
     "data": {
      "text/plain": [
       "{'e', 'h', 'l', 'o'}"
      ]
     },
     "execution_count": 128,
     "metadata": {},
     "output_type": "execute_result"
    }
   ],
   "source": [
    "set_2 = set('hello')\n",
    "set_2"
   ]
  },
  {
   "cell_type": "code",
   "execution_count": 129,
   "id": "41b4c762",
   "metadata": {},
   "outputs": [
    {
     "name": "stdout",
     "output_type": "stream",
     "text": [
      "[1, 2, 3, 4, 5]\n"
     ]
    }
   ],
   "source": [
    "list_1 = list(s_1)\n",
    "print(list_1)"
   ]
  },
  {
   "cell_type": "code",
   "execution_count": 130,
   "id": "a9e7ab74",
   "metadata": {},
   "outputs": [],
   "source": [
    "set_2 = set([1,2,3,4,5,6])\n",
    "set_3 = set([4,5,6,7,8,9])"
   ]
  },
  {
   "cell_type": "code",
   "execution_count": 133,
   "id": "f7f6572f",
   "metadata": {},
   "outputs": [
    {
     "name": "stdout",
     "output_type": "stream",
     "text": [
      "{4, 5, 6}\n",
      "{1, 2, 3, 4, 5, 6, 7, 8, 9}\n",
      "{1, 2, 3}\n"
     ]
    }
   ],
   "source": [
    "print(set_2 & set_3)\n",
    "print(set_2 | set_3)\n",
    "print(set_2 - set_3)"
   ]
  },
  {
   "cell_type": "code",
   "execution_count": 136,
   "id": "54d4f6b3",
   "metadata": {},
   "outputs": [],
   "source": [
    "# set 에서 데이터 추가(중복 데이터 입력 X) 삭제\n",
    "set_2.add(3)"
   ]
  },
  {
   "cell_type": "code",
   "execution_count": 139,
   "id": "eb5afa45",
   "metadata": {},
   "outputs": [
    {
     "data": {
      "text/plain": [
       "{1, 2, 3, 4, 5, 6}"
      ]
     },
     "execution_count": 139,
     "metadata": {},
     "output_type": "execute_result"
    }
   ],
   "source": [
    "set_2"
   ]
  },
  {
   "cell_type": "code",
   "execution_count": 138,
   "id": "d51cf312",
   "metadata": {},
   "outputs": [],
   "source": [
    "set_2.remove(7)"
   ]
  },
  {
   "cell_type": "code",
   "execution_count": 140,
   "id": "ddc36ee1",
   "metadata": {},
   "outputs": [],
   "source": [
    "set_2.update([1,1,3,4,7,8])"
   ]
  },
  {
   "cell_type": "code",
   "execution_count": 141,
   "id": "1e993697",
   "metadata": {},
   "outputs": [
    {
     "data": {
      "text/plain": [
       "{1, 2, 3, 4, 5, 6, 7, 8}"
      ]
     },
     "execution_count": 141,
     "metadata": {},
     "output_type": "execute_result"
    }
   ],
   "source": [
    "set_2"
   ]
  },
  {
   "cell_type": "code",
   "execution_count": 143,
   "id": "1b80214a",
   "metadata": {},
   "outputs": [
    {
     "name": "stdout",
     "output_type": "stream",
     "text": [
      "환영합니다~~~\n",
      "게임을 시작하세요!\n"
     ]
    }
   ],
   "source": [
    "# if : 분기 => ~ 라면, 아니라면\n",
    "# 성인이라면, 상인이 아니라면\n",
    "age = 25\n",
    "\n",
    "# 성인이라면-> 환영 메시지, 미성년 -> 킥~\n",
    "if age>=18 :\n",
    "    print('환영합니다~~~')\n",
    "    print('게임을 시작하세요!')\n",
    "else :\n",
    "    print('킥~~~')"
   ]
  },
  {
   "cell_type": "code",
   "execution_count": 145,
   "id": "70e5b272",
   "metadata": {},
   "outputs": [
    {
     "name": "stdout",
     "output_type": "stream",
     "text": [
      "홀수\n"
     ]
    }
   ],
   "source": [
    "# 홀수 짝수 판단 => 숫자%2 : 1->홀수, 0->짝수\n",
    "num = 9\n",
    "\n",
    "if num%2 == 0 :\n",
    "    print('짝수')\n",
    "else :\n",
    "    print('홀수')"
   ]
  },
  {
   "cell_type": "code",
   "execution_count": 150,
   "id": "240bfae8",
   "metadata": {},
   "outputs": [
    {
     "name": "stdout",
     "output_type": "stream",
     "text": [
      "0\n"
     ]
    }
   ],
   "source": [
    "# 양수 +, => num1 > 0\n",
    "# 음수 -, => num1 < 0\n",
    "# 0 => num == 0 => num1이 0보다 작지도 않고 크지도 않다\n",
    "\n",
    "num1 = 0\n",
    "if num1 > 0 :\n",
    "    print('양수')\n",
    "else :\n",
    "    if num1 < 0 :\n",
    "        print('음수')\n",
    "    else :\n",
    "        print(0)\n"
   ]
  },
  {
   "cell_type": "code",
   "execution_count": 151,
   "id": "a91f996a",
   "metadata": {},
   "outputs": [
    {
     "name": "stdout",
     "output_type": "stream",
     "text": [
      "0\n"
     ]
    }
   ],
   "source": [
    "if num1 > 0 :\n",
    "    print('양수')\n",
    "elif num1 < 0 :\n",
    "    print('음수')\n",
    "else :\n",
    "    print(0)\n"
   ]
  },
  {
   "cell_type": "code",
   "execution_count": 153,
   "id": "d4dfb9f5",
   "metadata": {},
   "outputs": [
    {
     "name": "stdout",
     "output_type": "stream",
     "text": [
      "FAIL\n"
     ]
    }
   ],
   "source": [
    "# 운전면허 시험\n",
    "score = 79\n",
    "check_msg = 'PASS' if score >= 80 else 'FAIL'\n",
    "print(check_msg)"
   ]
  },
  {
   "cell_type": "code",
   "execution_count": 154,
   "id": "a9e5d90e",
   "metadata": {},
   "outputs": [
    {
     "name": "stdout",
     "output_type": "stream",
     "text": [
      "FAIL\n"
     ]
    }
   ],
   "source": [
    "check_msg = 'PASS'\n",
    "if score < 80 :\n",
    "    check_msg = 'FAIL'\n",
    "\n",
    "print(check_msg)"
   ]
  },
  {
   "cell_type": "code",
   "execution_count": 160,
   "id": "05bfed4f",
   "metadata": {},
   "outputs": [
    {
     "name": "stdout",
     "output_type": "stream",
     "text": [
      "50 <class 'str'> 1975\n"
     ]
    }
   ],
   "source": [
    "# 표준 출력 함수 => print()\n",
    "# 표준 입력 함수 => input()\n",
    "user_age = input('나이를 입력하세요!')\n",
    "print(user_age, type(user_age), 2025-int(user_age))"
   ]
  },
  {
   "cell_type": "code",
   "execution_count": 167,
   "id": "b3bf17a7",
   "metadata": {},
   "outputs": [
    {
     "data": {
      "text/plain": [
       "25"
      ]
     },
     "execution_count": 167,
     "metadata": {},
     "output_type": "execute_result"
    }
   ],
   "source": [
    "age"
   ]
  },
  {
   "cell_type": "code",
   "execution_count": 166,
   "id": "4dae4a0b",
   "metadata": {},
   "outputs": [
    {
     "name": "stdout",
     "output_type": "stream",
     "text": [
      "접종 대상자 아님\n"
     ]
    }
   ],
   "source": [
    "if age < 15 or age >= 65 :\n",
    "    print('접종 대상자')\n",
    "else :\n",
    "    print('접종 대상자 아님')"
   ]
  },
  {
   "cell_type": "code",
   "execution_count": null,
   "id": "583590f8",
   "metadata": {},
   "outputs": [
    {
     "name": "stdout",
     "output_type": "stream",
     "text": [
      "대상자 아님\n"
     ]
    }
   ],
   "source": [
    "medical_msg = '대상자 아님'\n",
    "\n",
    "if age < 15 or age >= 65:\n",
    "    medical_msg = '대상자'\n",
    "\n",
    "print(medical_msg)"
   ]
  },
  {
   "cell_type": "code",
   "execution_count": 165,
   "id": "050e46fe",
   "metadata": {},
   "outputs": [
    {
     "name": "stdout",
     "output_type": "stream",
     "text": [
      "대상자 아님\n"
     ]
    }
   ],
   "source": [
    "medical_msg = '대상자' if age < 15 or age >= 65 else '대상자 아님'\n",
    "print(medical_msg)"
   ]
  },
  {
   "cell_type": "code",
   "execution_count": 168,
   "id": "861dde7c",
   "metadata": {},
   "outputs": [
    {
     "name": "stdout",
     "output_type": "stream",
     "text": [
      "1\n",
      "2\n",
      "3\n",
      "4\n",
      "5\n"
     ]
    }
   ],
   "source": [
    "# 반복문 : while condition(True/False) :\n",
    "# 조건식을 통해서 반복 -> 탈출이 가능해야한다!\n",
    "cnt = 0\n",
    "\n",
    "while cnt < 5 :\n",
    "    cnt = cnt + 1\n",
    "    print(cnt)"
   ]
  },
  {
   "cell_type": "code",
   "execution_count": 174,
   "id": "d312196e",
   "metadata": {},
   "outputs": [
    {
     "name": "stdout",
     "output_type": "stream",
     "text": [
      "1\n",
      "3\n",
      "5\n",
      "7\n",
      "9\n"
     ]
    }
   ],
   "source": [
    "# 1~10 까지 출력, 홀수만 출력\n",
    "cnt = 0\n",
    "while cnt < 10 :\n",
    "    cnt += 1  # cnt = cnt + 1\n",
    "    if cnt%2 == 1 :\n",
    "        print(cnt)"
   ]
  },
  {
   "cell_type": "code",
   "execution_count": null,
   "id": "630f888e",
   "metadata": {},
   "outputs": [
    {
     "name": "stdout",
     "output_type": "stream",
     "text": [
      "1\n",
      "3\n",
      "5\n",
      "7\n",
      "9\n"
     ]
    }
   ],
   "source": [
    "cnt = 0\n",
    "while cnt < 10 :\n",
    "    cnt += 1\n",
    "    if cnt%2 == 0:\n",
    "        continue\n",
    "    print(cnt)"
   ]
  },
  {
   "cell_type": "code",
   "execution_count": 176,
   "id": "f52df165",
   "metadata": {},
   "outputs": [],
   "source": [
    "list_a = [1,2,3,4,5,100, 200, 300]"
   ]
  },
  {
   "cell_type": "code",
   "execution_count": 177,
   "id": "779ddf0a",
   "metadata": {},
   "outputs": [
    {
     "name": "stdout",
     "output_type": "stream",
     "text": [
      "1\n",
      "2\n",
      "3\n",
      "4\n",
      "5\n",
      "100\n",
      "200\n",
      "300\n"
     ]
    }
   ],
   "source": [
    "for i in list_a:\n",
    "    print(i)    "
   ]
  },
  {
   "cell_type": "code",
   "execution_count": 178,
   "id": "a3c95fba",
   "metadata": {},
   "outputs": [],
   "source": [
    "list_b = [(1,2), (3,4), (5,6)]"
   ]
  },
  {
   "cell_type": "code",
   "execution_count": 179,
   "id": "70999655",
   "metadata": {},
   "outputs": [
    {
     "name": "stdout",
     "output_type": "stream",
     "text": [
      "1 2\n",
      "3 4\n",
      "5 6\n"
     ]
    }
   ],
   "source": [
    "for n1, n2 in list_b :\n",
    "    print(n1, n2)"
   ]
  },
  {
   "cell_type": "code",
   "execution_count": 184,
   "id": "c6b2b98f",
   "metadata": {},
   "outputs": [
    {
     "name": "stdout",
     "output_type": "stream",
     "text": [
      "1 80 PASS\n",
      "2 50 Fail\n",
      "3 70 PASS\n",
      "4 100 PASS\n",
      "5 55 Fail\n",
      "총점 : 355\n",
      "평균 : 71.0\n"
     ]
    }
   ],
   "source": [
    "# 5명의 학생이 영어 시험 => 60점 이상 pass 출력\n",
    "# 5명의 영어점수 총점, 평균\n",
    "\n",
    "scores = [80, 50, 70, 100, 55]\n",
    "num = 0     # 학생 리스트의 일련번호\n",
    "sum = 0     # 총점\n",
    "\n",
    "for score in scores :\n",
    "    # 학생의 점수를 비교해서 : pass, fail\n",
    "    # 리스트의 일련번호 출력 : num = num + 1\n",
    "    num = num + 1\n",
    "    sum = sum + score\n",
    "    if score >= 60 :\n",
    "        print(num, score, 'PASS')\n",
    "    else :\n",
    "        print(num, score, 'Fail')\n",
    "\n",
    "print('총점 :', sum)\n",
    "print('평균 :', sum/len(scores))\n"
   ]
  },
  {
   "cell_type": "code",
   "execution_count": 185,
   "id": "ab300920",
   "metadata": {},
   "outputs": [],
   "source": [
    "# range 함수 : 일련 번호 생성\n",
    "nums_1 = range(10) # 0 ~ 10-1"
   ]
  },
  {
   "cell_type": "code",
   "execution_count": 187,
   "id": "9d1e0cc2",
   "metadata": {},
   "outputs": [
    {
     "name": "stdout",
     "output_type": "stream",
     "text": [
      "0, 1, 2, 3, 4, 5, 6, 7, 8, 9, "
     ]
    }
   ],
   "source": [
    "for num in nums_1:\n",
    "    print(num, end=', ')"
   ]
  },
  {
   "cell_type": "code",
   "execution_count": 188,
   "id": "5dabc27b",
   "metadata": {},
   "outputs": [
    {
     "name": "stdout",
     "output_type": "stream",
     "text": [
      "3 4 5 6 7 "
     ]
    }
   ],
   "source": [
    "for num in range(3, 8) :  # 3, 4, 5, 6, 7\n",
    "    print(num, end=' ')"
   ]
  },
  {
   "cell_type": "code",
   "execution_count": 190,
   "id": "91094220",
   "metadata": {},
   "outputs": [
    {
     "name": "stdout",
     "output_type": "stream",
     "text": [
      "2 4 6 8 10 "
     ]
    }
   ],
   "source": [
    "for num in range(2, 11, 2) :\n",
    "    print(num , end=' ')"
   ]
  },
  {
   "cell_type": "code",
   "execution_count": 193,
   "id": "eac3e025",
   "metadata": {},
   "outputs": [
    {
     "name": "stdout",
     "output_type": "stream",
     "text": [
      "2 단\n",
      "2X1=2 2X2=4 2X3=6 2X4=8 2X5=10 2X6=12 2X7=14 2X8=16 2X9=18 \n",
      "3 단\n",
      "3X1=3 3X2=6 3X3=9 3X4=12 3X5=15 3X6=18 3X7=21 3X8=24 3X9=27 \n",
      "4 단\n",
      "4X1=4 4X2=8 4X3=12 4X4=16 4X5=20 4X6=24 4X7=28 4X8=32 4X9=36 \n",
      "5 단\n",
      "5X1=5 5X2=10 5X3=15 5X4=20 5X5=25 5X6=30 5X7=35 5X8=40 5X9=45 \n",
      "6 단\n",
      "6X1=6 6X2=12 6X3=18 6X4=24 6X5=30 6X6=36 6X7=42 6X8=48 6X9=54 \n",
      "7 단\n",
      "7X1=7 7X2=14 7X3=21 7X4=28 7X5=35 7X6=42 7X7=49 7X8=56 7X9=63 \n",
      "8 단\n",
      "8X1=8 8X2=16 8X3=24 8X4=32 8X5=40 8X6=48 8X7=56 8X8=64 8X9=72 \n",
      "9 단\n",
      "9X1=9 9X2=18 9X3=27 9X4=36 9X5=45 9X6=54 9X7=63 9X8=72 9X9=81 \n"
     ]
    }
   ],
   "source": [
    "# 구구단 : 2~9단  => 2~9\n",
    "# 각 단 : X 1 ~ X 9 => 1~9\n",
    "for dan in range(2, 10):\n",
    "    print(f'{dan} 단')\n",
    "    for i in range(1, 10):\n",
    "        print(f'{dan}X{i}={dan*i}', end=' ')\n",
    "    print()"
   ]
  },
  {
   "cell_type": "code",
   "execution_count": null,
   "id": "f91c06de",
   "metadata": {},
   "outputs": [],
   "source": [
    "# 리스트의 컴프리헨션\n",
    "# [표현식 for 변수 in list if 조건식(변수)]"
   ]
  },
  {
   "cell_type": "code",
   "execution_count": 196,
   "id": "15b6eaa8",
   "metadata": {},
   "outputs": [
    {
     "name": "stdout",
     "output_type": "stream",
     "text": [
      "[3, 9]\n"
     ]
    }
   ],
   "source": [
    "list_2 = [1,2,3,4]\n",
    "\n",
    "# 결과 리스트\n",
    "list_result = []\n",
    "for num in list_2:\n",
    "    if num%2==1:\n",
    "        list_result.append(num*3)\n",
    "\n",
    "print(list_result)"
   ]
  },
  {
   "cell_type": "code",
   "execution_count": 198,
   "id": "0dfc50f4",
   "metadata": {},
   "outputs": [
    {
     "name": "stdout",
     "output_type": "stream",
     "text": [
      "[3, 9]\n"
     ]
    }
   ],
   "source": [
    "list_result_2 = [num*3 for num in list_2 if num%2==1]\n",
    "print(list_result_2)"
   ]
  },
  {
   "cell_type": "code",
   "execution_count": 195,
   "id": "187dc417",
   "metadata": {},
   "outputs": [
    {
     "name": "stdout",
     "output_type": "stream",
     "text": [
      "[3, 6, 9, 12]\n"
     ]
    }
   ],
   "source": [
    "list_result_1 = [num*3 for num in list_2]\n",
    "print(list_result_1)"
   ]
  },
  {
   "cell_type": "code",
   "execution_count": null,
   "id": "df17d9eb",
   "metadata": {},
   "outputs": [],
   "source": []
  },
  {
   "cell_type": "markdown",
   "id": "d2117ecc",
   "metadata": {},
   "source": [
    "### 2025.06.11"
   ]
  },
  {
   "cell_type": "code",
   "execution_count": null,
   "id": "71e7e29f",
   "metadata": {},
   "outputs": [],
   "source": [
    "#EX3\n",
    "# 검진 대상장 판별\n",
    "# 20세이상, 짝수년도에는 짝수 년생들이 대상\n",
    "# 40세 이상 암 검진 대상\n",
    "# 올해 년도 , 태어난 년도 \n",
    "year = 2025\n",
    "birth_year = 1985\n",
    "age = year-birth_year\n",
    "print(age)\n",
    "\n",
    "if age>=20 and birth_year%2==year%2 :\n",
    "    print('검진 대상자입니다.')\n",
    "    if age >= 40:\n",
    "        print('암검진 대상자입니다.')\n",
    "else :\n",
    "    print('검진대상자가 아닙니다.')\n",
    "\n"
   ]
  },
  {
   "cell_type": "code",
   "execution_count": 1,
   "id": "47524af3",
   "metadata": {},
   "outputs": [
    {
     "name": "stdout",
     "output_type": "stream",
     "text": [
      "sum :  5050\n"
     ]
    }
   ],
   "source": [
    "# EX 3-1\n",
    "# 1부터 100 까지의 합을 구하는 프로그램\n",
    "sum = 0\n",
    "for i in range(1, 101):\n",
    "    #print(i, end=\",\")\n",
    "    sum += i\n",
    "\n",
    "print('sum : ', sum)"
   ]
  },
  {
   "cell_type": "code",
   "execution_count": 2,
   "id": "4e86ebc7",
   "metadata": {},
   "outputs": [
    {
     "name": "stdout",
     "output_type": "stream",
     "text": [
      "result :  3628800\n"
     ]
    }
   ],
   "source": [
    "# EX 3-2\n",
    "# 1부터 10 까지의 곱을 구하는 프로그램\n",
    "result = 1\n",
    "for i in range(1, 11):\n",
    "    #print(i, end=\",\")\n",
    "    result *= i\n",
    "\n",
    "print('result : ', result)"
   ]
  },
  {
   "cell_type": "code",
   "execution_count": 3,
   "id": "7808daf2",
   "metadata": {},
   "outputs": [
    {
     "name": "stdout",
     "output_type": "stream",
     "text": [
      "2 단\n",
      "2 x 1 = 2 2 x 2 = 4 \n",
      "4 단\n",
      "4 x 1 = 4 4 x 2 = 8 4 x 3 = 12 4 x 4 = 16 \n",
      "6 단\n",
      "6 x 1 = 6 6 x 2 = 12 6 x 3 = 18 6 x 4 = 24 6 x 5 = 30 6 x 6 = 36 \n",
      "8 단\n",
      "8 x 1 = 8 8 x 2 = 16 8 x 3 = 24 8 x 4 = 32 8 x 5 = 40 8 x 6 = 48 8 x 7 = 56 8 x 8 = 64 \n"
     ]
    }
   ],
   "source": [
    "# 3-3 구구단의 짝수단(2, 4, 6, 8)단만 출력\n",
    "# 2x2, 4x4, 6x6, 8x8\n",
    "for dan in range(2, 9, 2):\n",
    "    print(dan, '단')\n",
    "    for num in range(1, dan+1):\n",
    "        print(dan , 'x', num, '=', dan*num, end=' ')\n",
    "    print()"
   ]
  },
  {
   "cell_type": "code",
   "execution_count": 4,
   "id": "15d86533",
   "metadata": {},
   "outputs": [
    {
     "name": "stdout",
     "output_type": "stream",
     "text": [
      "56이 추가되었을 때 1000을 넘어갑니다. 1000을 넘긴 최초 의 값은 1055입니다.\n"
     ]
    }
   ],
   "source": [
    "# while문의 무한 루프 사용\n",
    "# 1부터 시작해서 모든 짝수와 3의 배수를 더해서\n",
    "# 그합이 언제 1000을 넘어서는지 \n",
    "# 1000 넘어선 값은 얼마인지\n",
    "\n",
    "num = 1\n",
    "sum = 0\n",
    "\n",
    "while True :\n",
    "    # 합의 조건식\n",
    "    if num%2==0 or num%3==0 :\n",
    "        sum += num\n",
    "    # 탈출 조건\n",
    "    if sum > 1000:\n",
    "        break\n",
    "    # 증가식\n",
    "    num += 1\n",
    "\n",
    "print(f'{num}이 추가되었을 때 1000을 넘어갑니다. 1000을 넘긴 최초 의 값은 {sum}입니다.')\n",
    "\n",
    "\n",
    "\n"
   ]
  },
  {
   "cell_type": "markdown",
   "id": "27770855",
   "metadata": {},
   "source": [
    "### 함수 2025.06.11"
   ]
  },
  {
   "cell_type": "code",
   "execution_count": 6,
   "id": "595a1ce1",
   "metadata": {},
   "outputs": [],
   "source": [
    "# 함수 : 데이터를 받고 처리(연산)하고 결과를 반환하는 코드들의 묶음 \n",
    "#       -> 호출을 통해 코드를 실행\n",
    "# 중복코드를 줄일 수 있다. => 유지보수, 관리가 수월해진다!\n",
    "# def 함수이름(매개변수, 매개변수, 매개변수, ....) :\n",
    "#   처리작업 코드들...\n",
    "#   return 값(data : 파이썬에서 제공하는 타입의 모든 데이터)"
   ]
  },
  {
   "cell_type": "code",
   "execution_count": null,
   "id": "969c04bd",
   "metadata": {},
   "outputs": [],
   "source": [
    "# 함수정의\n",
    "# 숫자 두개를 받아  => 매개변수 : 선택사항\n",
    "# 덧셈연산을 하고   => 내부 처리 작업\n",
    "# 결과 값을 반환    => 반환 값 : 선택사항택사항\n",
    "def add(n1, n2) : # 함수 정의 : 이름, 매개변수\n",
    "    result = n1 + n2 # 연산, 처리, 작업\n",
    "    return result   # 결과 값 반환"
   ]
  },
  {
   "cell_type": "code",
   "execution_count": 10,
   "id": "1f07d622",
   "metadata": {},
   "outputs": [
    {
     "name": "stdout",
     "output_type": "stream",
     "text": [
      "<class 'function'>\n"
     ]
    }
   ],
   "source": [
    "print(type(add))"
   ]
  },
  {
   "cell_type": "code",
   "execution_count": null,
   "id": "d0c3ef1e",
   "metadata": {},
   "outputs": [
    {
     "data": {
      "text/plain": [
       "30"
      ]
     },
     "execution_count": 8,
     "metadata": {},
     "output_type": "execute_result"
    }
   ],
   "source": [
    "add(10, 20) # 호출 : 이름과 괄호()안에 매개변수가 받을 수 있는 데이터를 함께 전달"
   ]
  },
  {
   "cell_type": "code",
   "execution_count": 12,
   "id": "3acbf7e1",
   "metadata": {},
   "outputs": [
    {
     "data": {
      "text/plain": [
       "6"
      ]
     },
     "execution_count": 12,
     "metadata": {},
     "output_type": "execute_result"
    }
   ],
   "source": [
    "add(1 , 5)"
   ]
  },
  {
   "cell_type": "code",
   "execution_count": 21,
   "id": "9e3fbb27",
   "metadata": {},
   "outputs": [],
   "source": [
    "# 매개변수가 없는 함수\n",
    "def alert_msg():\n",
    "    # ....\n",
    "    msg = '''\n",
    "안녕하세요.\n",
    "회원님\n",
    "반갑습니다.!!!!\n",
    "    '''\n",
    "    return msg"
   ]
  },
  {
   "cell_type": "code",
   "execution_count": 22,
   "id": "a1238836",
   "metadata": {},
   "outputs": [
    {
     "name": "stdout",
     "output_type": "stream",
     "text": [
      "\n",
      "안녕하세요.\n",
      "회원님\n",
      "반갑습니다.!!!!\n",
      "    \n"
     ]
    }
   ],
   "source": [
    "print(alert_msg())"
   ]
  },
  {
   "cell_type": "code",
   "execution_count": 26,
   "id": "f2e5c961",
   "metadata": {},
   "outputs": [],
   "source": [
    "# 매개변수는 있고, 반환값이 없는 함수\n",
    "# 숫자 두개를 받아 \n",
    "# 덧셈연산의, 결과를 출력하는 함수\n",
    "def add_print(n1, n2):\n",
    "    result = n1 + n2\n",
    "    print(f'{n1}+{n2}={n1+n2}')\n",
    "    "
   ]
  },
  {
   "cell_type": "code",
   "execution_count": 28,
   "id": "1c0fbee2",
   "metadata": {},
   "outputs": [
    {
     "name": "stdout",
     "output_type": "stream",
     "text": [
      "100+20=120\n"
     ]
    }
   ],
   "source": [
    "add_print(100, 20)"
   ]
  },
  {
   "cell_type": "code",
   "execution_count": 29,
   "id": "382ab5b8",
   "metadata": {},
   "outputs": [
    {
     "name": "stdout",
     "output_type": "stream",
     "text": [
      "10+200=210\n"
     ]
    }
   ],
   "source": [
    "result_add_print = add_print(10, 200)"
   ]
  },
  {
   "cell_type": "code",
   "execution_count": 31,
   "id": "a8caa20a",
   "metadata": {},
   "outputs": [
    {
     "name": "stdout",
     "output_type": "stream",
     "text": [
      "None\n"
     ]
    }
   ],
   "source": [
    "print(result_add_print)"
   ]
  },
  {
   "cell_type": "code",
   "execution_count": 1,
   "id": "cbf7ce0c",
   "metadata": {},
   "outputs": [],
   "source": [
    "# 매개변수도 없고, 반환도 없는 함수\n",
    "def display_menu() :\n",
    "    menu = '''\n",
    "1. 아메리카노\n",
    "2. 라떼\n",
    "3. 에스프레소\n",
    "4. Milk Tea\n",
    "'''\n",
    "    print(menu)\n"
   ]
  },
  {
   "cell_type": "code",
   "execution_count": 2,
   "id": "f99e4e55",
   "metadata": {},
   "outputs": [
    {
     "name": "stdout",
     "output_type": "stream",
     "text": [
      "\n",
      "1. 아메리카노\n",
      "2. 라떼\n",
      "3. 에스프레소\n",
      "4. Milk Tea\n",
      "\n"
     ]
    }
   ],
   "source": [
    "display_menu()"
   ]
  },
  {
   "cell_type": "code",
   "execution_count": 34,
   "id": "f1488f48",
   "metadata": {},
   "outputs": [
    {
     "data": {
      "text/plain": [
       "5"
      ]
     },
     "execution_count": 34,
     "metadata": {},
     "output_type": "execute_result"
    }
   ],
   "source": [
    "len('hello')"
   ]
  },
  {
   "cell_type": "code",
   "execution_count": 35,
   "id": "1d44a12c",
   "metadata": {},
   "outputs": [],
   "source": [
    "def sub(n1, n2):\n",
    "    return n1-n2"
   ]
  },
  {
   "cell_type": "code",
   "execution_count": 38,
   "id": "432e0671",
   "metadata": {},
   "outputs": [
    {
     "data": {
      "text/plain": [
       "7"
      ]
     },
     "execution_count": 38,
     "metadata": {},
     "output_type": "execute_result"
    }
   ],
   "source": [
    "sub(n2=3, n1=10)"
   ]
  },
  {
   "cell_type": "code",
   "execution_count": 41,
   "id": "f66e6748",
   "metadata": {},
   "outputs": [
    {
     "name": "stdout",
     "output_type": "stream",
     "text": [
      "KING\thello\thi~!!\n"
     ]
    }
   ],
   "source": [
    "print('KING', 'hello', sep='\\t', end='\\t' )   \n",
    "print('hi~!!')"
   ]
  },
  {
   "cell_type": "code",
   "execution_count": 43,
   "id": "85b5c8d3",
   "metadata": {},
   "outputs": [
    {
     "name": "stdout",
     "output_type": "stream",
     "text": [
      "king\n",
      "1 2 3 4 5\n"
     ]
    }
   ],
   "source": [
    "# 매개변수가 여러개인데 몇개인지 몰라???!!!!\n",
    "print('king')\n",
    "print(1,2,3,4,5)"
   ]
  },
  {
   "cell_type": "code",
   "execution_count": 48,
   "id": "4aff3d80",
   "metadata": {},
   "outputs": [],
   "source": [
    "# 매개변수에서 전달되는 숫자들(몇개?)을 \n",
    "# 모두 더한 값을 \n",
    "# 반환 하는 함수\n",
    "\n",
    "def add_sum(*args) :\n",
    "    print(type(args))\n",
    "    print(args)\n",
    "    sum = 0\n",
    "    for num in args:\n",
    "        sum += num\n",
    "    return sum"
   ]
  },
  {
   "cell_type": "code",
   "execution_count": 50,
   "id": "9fa87105",
   "metadata": {},
   "outputs": [
    {
     "name": "stdout",
     "output_type": "stream",
     "text": [
      "<class 'tuple'>\n",
      "(1, 2, 3, 4, 5, 6, 7, 8, 9, 10)\n"
     ]
    },
    {
     "data": {
      "text/plain": [
       "55"
      ]
     },
     "execution_count": 50,
     "metadata": {},
     "output_type": "execute_result"
    }
   ],
   "source": [
    "add_sum(1,2,3,4,5,6,7,8,9,10)"
   ]
  },
  {
   "cell_type": "code",
   "execution_count": 52,
   "id": "4814b7c2",
   "metadata": {},
   "outputs": [],
   "source": [
    "# 연산의 타입을 전달 받고 전달되는 숫자들을 \n",
    "# 연산한 결과를 \n",
    "# 반환하는 함수\n",
    "def add_type(type, *args):\n",
    "    # add, mul\n",
    "    if type=='add':\n",
    "        result = 0\n",
    "        for num in args:\n",
    "            result += num\n",
    "        return result\n",
    "    elif type=='mul':\n",
    "        result = 1\n",
    "        for num in args:\n",
    "            result *= num\n",
    "        return result\n",
    "    else :\n",
    "        print('사용가능한 타입을 입력해주세요!')"
   ]
  },
  {
   "cell_type": "code",
   "execution_count": 55,
   "id": "9d3659c9",
   "metadata": {},
   "outputs": [
    {
     "name": "stdout",
     "output_type": "stream",
     "text": [
      "사용가능한 타입을 입력해주세요!\n"
     ]
    }
   ],
   "source": [
    "add_type('add', 1,2,3,4,5,6,7,8,9)\n",
    "add_type('mul', 1,2,3,4)\n",
    "add_type('sub', 1,2,3,4)"
   ]
  },
  {
   "cell_type": "code",
   "execution_count": 59,
   "id": "ba16e91a",
   "metadata": {},
   "outputs": [],
   "source": [
    "def print_args(**args):\n",
    "    print(args)\n",
    "    print(type(args))\n",
    "    return args"
   ]
  },
  {
   "cell_type": "code",
   "execution_count": 57,
   "id": "e4d4dd92",
   "metadata": {},
   "outputs": [
    {
     "name": "stdout",
     "output_type": "stream",
     "text": [
      "{'name': '손흥민', 'age': 20}\n",
      "<class 'dict'>\n"
     ]
    }
   ],
   "source": [
    "print_args(name='손흥민', age=20)"
   ]
  },
  {
   "cell_type": "code",
   "execution_count": 58,
   "id": "b3803768",
   "metadata": {},
   "outputs": [],
   "source": [
    "player1 = {\n",
    "    'name' : '손흥민',\n",
    "    'age' : 20\n",
    "}"
   ]
  },
  {
   "cell_type": "code",
   "execution_count": 60,
   "id": "4ccd9735",
   "metadata": {},
   "outputs": [
    {
     "name": "stdout",
     "output_type": "stream",
     "text": [
      "{'name': '메시', 'age': 30}\n",
      "<class 'dict'>\n"
     ]
    }
   ],
   "source": [
    "player2 = print_args(name='메시', age=30)"
   ]
  },
  {
   "cell_type": "code",
   "execution_count": 61,
   "id": "771fdcb9",
   "metadata": {},
   "outputs": [
    {
     "name": "stdout",
     "output_type": "stream",
     "text": [
      "{'name': '손흥민', 'age': 20}\n",
      "{'name': '메시', 'age': 30}\n"
     ]
    }
   ],
   "source": [
    "print(player1)\n",
    "print(player2)"
   ]
  },
  {
   "cell_type": "code",
   "execution_count": 62,
   "id": "61c1225e",
   "metadata": {},
   "outputs": [],
   "source": [
    "def add_mul_return(n1, n2):\n",
    "    add_result = n1 + n2\n",
    "    mul_result = n1 * n2\n",
    "    return (add_result, mul_result)"
   ]
  },
  {
   "cell_type": "code",
   "execution_count": 64,
   "id": "13e27cdb",
   "metadata": {},
   "outputs": [
    {
     "name": "stdout",
     "output_type": "stream",
     "text": [
      "30 200\n"
     ]
    }
   ],
   "source": [
    "result1, result2 =  add_mul_return(10,20)\n",
    "print(result1, result2)"
   ]
  },
  {
   "cell_type": "code",
   "execution_count": 65,
   "id": "fdc605b5",
   "metadata": {},
   "outputs": [
    {
     "ename": "TypeError",
     "evalue": "add_mul_return() missing 2 required positional arguments: 'n1' and 'n2'",
     "output_type": "error",
     "traceback": [
      "\u001b[31m---------------------------------------------------------------------------\u001b[39m",
      "\u001b[31mTypeError\u001b[39m                                 Traceback (most recent call last)",
      "\u001b[36mCell\u001b[39m\u001b[36m \u001b[39m\u001b[32mIn[65]\u001b[39m\u001b[32m, line 1\u001b[39m\n\u001b[32m----> \u001b[39m\u001b[32m1\u001b[39m \u001b[43madd_mul_return\u001b[49m\u001b[43m(\u001b[49m\u001b[43m)\u001b[49m\n",
      "\u001b[31mTypeError\u001b[39m: add_mul_return() missing 2 required positional arguments: 'n1' and 'n2'"
     ]
    }
   ],
   "source": [
    "add_mul_return()"
   ]
  },
  {
   "cell_type": "code",
   "execution_count": 66,
   "id": "328e9304",
   "metadata": {},
   "outputs": [],
   "source": [
    "# 매개변수의 기본값 설정\n",
    "def add2(n1=0, n2=0):\n",
    "    return n1+n2"
   ]
  },
  {
   "cell_type": "code",
   "execution_count": 68,
   "id": "67ab21fb",
   "metadata": {},
   "outputs": [
    {
     "data": {
      "text/plain": [
       "1"
      ]
     },
     "execution_count": 68,
     "metadata": {},
     "output_type": "execute_result"
    }
   ],
   "source": [
    "add2(1)"
   ]
  },
  {
   "cell_type": "code",
   "execution_count": 69,
   "id": "e9c0cdd9",
   "metadata": {},
   "outputs": [],
   "source": [
    "# 이름, 나이, 성별 받아서 출력 함수\n",
    "def say_hi(name, age, gender=True) : # Gender=True => 여성\n",
    "    print(f'안녕하세요. 저는 {name}입니다. 나이는 {age} 입니다.')\n",
    "    if gender:\n",
    "        print('여성입니다.')\n",
    "    else :\n",
    "        print('남성입니다.')"
   ]
  },
  {
   "cell_type": "code",
   "execution_count": 71,
   "id": "d07b1709",
   "metadata": {},
   "outputs": [
    {
     "name": "stdout",
     "output_type": "stream",
     "text": [
      "안녕하세요. 저는 king입니다. 나이는 20 입니다.\n",
      "남성입니다.\n"
     ]
    }
   ],
   "source": [
    "say_hi('king', 20, False)"
   ]
  },
  {
   "cell_type": "code",
   "execution_count": 72,
   "id": "87511fe5",
   "metadata": {},
   "outputs": [],
   "source": [
    "# 변수의 사용 범위\n",
    "\n",
    "a = 1\n",
    "\n",
    "def var_test(a):\n",
    "    print('함수 내부의 a : ', a)\n"
   ]
  },
  {
   "cell_type": "code",
   "execution_count": 73,
   "id": "d67da09e",
   "metadata": {},
   "outputs": [
    {
     "name": "stdout",
     "output_type": "stream",
     "text": [
      "함수 내부의 a :  10\n"
     ]
    }
   ],
   "source": [
    "var_test(10)"
   ]
  },
  {
   "cell_type": "code",
   "execution_count": 75,
   "id": "f0c6fed6",
   "metadata": {},
   "outputs": [
    {
     "name": "stdout",
     "output_type": "stream",
     "text": [
      "1\n"
     ]
    }
   ],
   "source": [
    "print(a)"
   ]
  },
  {
   "cell_type": "code",
   "execution_count": 80,
   "id": "d9a5bd65",
   "metadata": {},
   "outputs": [],
   "source": [
    "def var_test2():\n",
    "    global a\n",
    "    a = a + 1\n",
    "    print(a)\n",
    "    "
   ]
  },
  {
   "cell_type": "code",
   "execution_count": 81,
   "id": "5b5fe7c7",
   "metadata": {},
   "outputs": [
    {
     "name": "stdout",
     "output_type": "stream",
     "text": [
      "2\n"
     ]
    }
   ],
   "source": [
    "var_test2()"
   ]
  },
  {
   "cell_type": "code",
   "execution_count": 82,
   "id": "144f4b78",
   "metadata": {},
   "outputs": [
    {
     "name": "stdout",
     "output_type": "stream",
     "text": [
      "2\n"
     ]
    }
   ],
   "source": [
    "print(a)"
   ]
  },
  {
   "cell_type": "code",
   "execution_count": 83,
   "id": "65247b12",
   "metadata": {},
   "outputs": [],
   "source": [
    "# lambda 함수 => 한줄로 간단하게 표현하는 함수 표현식\n",
    "# 함수이름 = lambda arg1, arg2 ... : 연산\n",
    "# 숫자 두개를 전달받아 덧셈한 결과를 반환하는 함수\n",
    "add3 = lambda n1, n2 : n1+n2"
   ]
  },
  {
   "cell_type": "code",
   "execution_count": 84,
   "id": "261faf2a",
   "metadata": {},
   "outputs": [
    {
     "data": {
      "text/plain": [
       "110"
      ]
     },
     "execution_count": 84,
     "metadata": {},
     "output_type": "execute_result"
    }
   ],
   "source": [
    "add3(100, 10)"
   ]
  },
  {
   "cell_type": "code",
   "execution_count": 85,
   "id": "50376022",
   "metadata": {},
   "outputs": [
    {
     "data": {
      "text/plain": [
       "function"
      ]
     },
     "execution_count": 85,
     "metadata": {},
     "output_type": "execute_result"
    }
   ],
   "source": [
    "type(add3)"
   ]
  },
  {
   "cell_type": "code",
   "execution_count": 86,
   "id": "3acbe5d3",
   "metadata": {},
   "outputs": [],
   "source": [
    "# 내장함수 : 파이썬 설치 -> 기본으로 제공하는 함수\n",
    "st_names = ['king', 'cool', 'hot', 'scott']"
   ]
  },
  {
   "cell_type": "code",
   "execution_count": 88,
   "id": "b7721702",
   "metadata": {},
   "outputs": [
    {
     "name": "stdout",
     "output_type": "stream",
     "text": [
      "0 king\n",
      "1 cool\n",
      "2 hot\n",
      "3 scott\n"
     ]
    }
   ],
   "source": [
    "# 학생들의 index 값을 함께 출력\n",
    "num = 0\n",
    "for name in st_names:\n",
    "    print(num, name)\n",
    "    num += 1"
   ]
  },
  {
   "cell_type": "code",
   "execution_count": 91,
   "id": "8b74bb32",
   "metadata": {},
   "outputs": [
    {
     "name": "stdout",
     "output_type": "stream",
     "text": [
      "10 king\n",
      "11 cool\n",
      "12 hot\n",
      "13 scott\n"
     ]
    }
   ],
   "source": [
    "for index, name in enumerate(st_names, start=10):\n",
    "    print(index, name)"
   ]
  },
  {
   "cell_type": "code",
   "execution_count": 92,
   "id": "a4c22f2f",
   "metadata": {},
   "outputs": [],
   "source": [
    "# filter : 필터링(매개변수로 전달되는 함수 : 요소값을 판단해서 논리값 반환)을 통해 새로운 리스트를 생성 반환\n",
    "# filter(fn, itr)\n",
    "def positive(l) :\n",
    "    result = []\n",
    "    for n in l :\n",
    "        if n > 0 :\n",
    "            result.append(n)\n",
    "    return result"
   ]
  },
  {
   "cell_type": "code",
   "execution_count": 93,
   "id": "d4e433c3",
   "metadata": {},
   "outputs": [
    {
     "data": {
      "text/plain": [
       "[3, 1, 9, 10, 4]"
      ]
     },
     "execution_count": 93,
     "metadata": {},
     "output_type": "execute_result"
    }
   ],
   "source": [
    "positive([3, 1, -1, -3, 0, 9, 10, 4])"
   ]
  },
  {
   "cell_type": "code",
   "execution_count": 95,
   "id": "fd34d77f",
   "metadata": {},
   "outputs": [],
   "source": [
    "# filter\n",
    "# 판별함수\n",
    "def positive_fn(x):\n",
    "    return x > 0"
   ]
  },
  {
   "cell_type": "code",
   "execution_count": 98,
   "id": "3318a3b9",
   "metadata": {},
   "outputs": [],
   "source": [
    "def pos_fn2(x):\n",
    "    return x%2==1"
   ]
  },
  {
   "cell_type": "code",
   "execution_count": 99,
   "id": "49b4e093",
   "metadata": {},
   "outputs": [
    {
     "data": {
      "text/plain": [
       "[3, 1, -1, -3, 9]"
      ]
     },
     "execution_count": 99,
     "metadata": {},
     "output_type": "execute_result"
    }
   ],
   "source": [
    "list(filter(pos_fn2, [3, 1, -1, -3, 0, 9, 10, 4]))"
   ]
  },
  {
   "cell_type": "code",
   "execution_count": 101,
   "id": "ee9a68b3",
   "metadata": {},
   "outputs": [
    {
     "data": {
      "text/plain": [
       "[3, 1, -1, -3, 9]"
      ]
     },
     "execution_count": 101,
     "metadata": {},
     "output_type": "execute_result"
    }
   ],
   "source": [
    "list(filter(lambda x : x%2==1, [3, 1, -1, -3, 0, 9, 10, 4]))"
   ]
  },
  {
   "cell_type": "code",
   "execution_count": 104,
   "id": "49d53e4f",
   "metadata": {},
   "outputs": [
    {
     "data": {
      "text/plain": [
       "[10, 20, 30, 40, 50]"
      ]
     },
     "execution_count": 104,
     "metadata": {},
     "output_type": "execute_result"
    }
   ],
   "source": [
    "list(map(lambda x: x*10, [1,2,3,4,5]))"
   ]
  },
  {
   "cell_type": "code",
   "execution_count": 105,
   "id": "f149f32c",
   "metadata": {},
   "outputs": [],
   "source": [
    "# 파이썬의 입출력(자원)\n",
    "# 표준 입출력 => input, print\n",
    "# 텍스트 파일(자원) : 입출력 I/O\n",
    "# 파일 단위 입출력 : open(자원의경로, 모드)  모드 => r(read), w(write), a(append)\n",
    "f = open('new_text.txt', 'w')\n",
    "f.close()"
   ]
  },
  {
   "cell_type": "code",
   "execution_count": 109,
   "id": "3e4c5280",
   "metadata": {},
   "outputs": [],
   "source": [
    "f = open('new_text.txt', 'w') #1.파일 오픈 : w\n",
    "f.write('안녕하세요!!!') # 3. 텍스트 쓰기\n",
    "f.close()"
   ]
  },
  {
   "cell_type": "code",
   "execution_count": 111,
   "id": "32fe5d39",
   "metadata": {},
   "outputs": [],
   "source": [
    "f = open('new_text.txt', 'w')\n",
    "for i in range(1, 11):\n",
    "    f.write(f'{i}번째 줄 입력 \\n')\n",
    "f.close()"
   ]
  },
  {
   "cell_type": "code",
   "execution_count": 114,
   "id": "87c285f4",
   "metadata": {},
   "outputs": [
    {
     "name": "stdout",
     "output_type": "stream",
     "text": [
      "1번째 줄 입력 \n",
      "\n",
      "2번째 줄 입력 \n",
      "\n"
     ]
    }
   ],
   "source": [
    "# 파일 내용 읽어오기\n",
    "f = open('new_text.txt', 'r') # 1. 파일 열고 , Read -> r\n",
    "line1 = f.readline()\n",
    "print(line1)\n",
    "line2 = f.readline()\n",
    "print(line2)\n",
    "f.close()\n"
   ]
  },
  {
   "cell_type": "code",
   "execution_count": 115,
   "id": "16984313",
   "metadata": {},
   "outputs": [
    {
     "name": "stdout",
     "output_type": "stream",
     "text": [
      "1번째 줄 입력 \n",
      "2번째 줄 입력 \n",
      "3번째 줄 입력 \n",
      "4번째 줄 입력 \n",
      "5번째 줄 입력 \n",
      "6번째 줄 입력 \n",
      "7번째 줄 입력 \n",
      "8번째 줄 입력 \n",
      "9번째 줄 입력 \n",
      "10번째 줄 입력 \n"
     ]
    }
   ],
   "source": [
    "# 파일 내용 읽어오기\n",
    "f = open('new_text.txt', 'r') # 1. 파일 열고 , Read -> r\n",
    "\n",
    "while 1:\n",
    "    line = f.readline()\n",
    "    if not line:\n",
    "        break\n",
    "    print(line, end='')\n",
    "\n",
    "f.close()"
   ]
  },
  {
   "cell_type": "code",
   "execution_count": 124,
   "id": "4e1c1557",
   "metadata": {},
   "outputs": [
    {
     "name": "stdout",
     "output_type": "stream",
     "text": [
      "['1번째 줄 입력 \\n', '2번째 줄 입력 \\n', '3번째 줄 입력 \\n', '4번째 줄 입력 \\n', '5번째 줄 입력 \\n', '6번째 줄 입력 \\n', '7번째 줄 입력 \\n', '8번째 줄 입력 \\n', '9번째 줄 입력 \\n', '10번째 줄 입력 \\n', '새로운 행이 추가됩니다.새로운 행이 추가됩니다. \\n', '새로운 행이 추가됩니다. \\n', '새로운 행16이 추가됩니다. \\n', '새로운 행17이 추가됩니다. \\n', '새로운 행18이 추가됩니다. \\n', '새로운 행19이 추가됩니다. \\n', '새로운 행20이 추가됩니다. \\n']\n",
      "1번째 줄 입력 \n",
      "2번째 줄 입력 \n",
      "3번째 줄 입력 \n",
      "4번째 줄 입력 \n",
      "5번째 줄 입력 \n",
      "6번째 줄 입력 \n",
      "7번째 줄 입력 \n",
      "8번째 줄 입력 \n",
      "9번째 줄 입력 \n",
      "10번째 줄 입력 \n",
      "새로운 행이 추가됩니다.새로운 행이 추가됩니다. \n",
      "새로운 행이 추가됩니다. \n",
      "새로운 행16이 추가됩니다. \n",
      "새로운 행17이 추가됩니다. \n",
      "새로운 행18이 추가됩니다. \n",
      "새로운 행19이 추가됩니다. \n",
      "새로운 행20이 추가됩니다. \n"
     ]
    }
   ],
   "source": [
    "f = open('new_text.txt', 'r')\n",
    "lines = f.readlines()\n",
    "print(lines)\n",
    "for line in lines:\n",
    "    print(line, end='')\n",
    "f.close()"
   ]
  },
  {
   "cell_type": "code",
   "execution_count": 122,
   "id": "6c407903",
   "metadata": {},
   "outputs": [],
   "source": [
    "# append : 데이터 추가\n",
    "f = open('new_text.txt', 'a')\n",
    "f.write('새로운 행이 추가됩니다. \\n')\n",
    "f.close()"
   ]
  },
  {
   "cell_type": "code",
   "execution_count": 123,
   "id": "4bdc8cab",
   "metadata": {},
   "outputs": [],
   "source": [
    "# append : 데이터 추가\n",
    "f = open('new_text.txt', 'a')\n",
    "for i in range(16, 21):\n",
    "    f.write(f'새로운 행{i}이 추가됩니다. \\n')\n",
    "f.close()"
   ]
  },
  {
   "cell_type": "code",
   "execution_count": 125,
   "id": "ee264967",
   "metadata": {},
   "outputs": [
    {
     "name": "stdout",
     "output_type": "stream",
     "text": [
      "['1번째 줄 입력 \\n', '2번째 줄 입력 \\n', '3번째 줄 입력 \\n', '4번째 줄 입력 \\n', '5번째 줄 입력 \\n', '6번째 줄 입력 \\n', '7번째 줄 입력 \\n', '8번째 줄 입력 \\n', '9번째 줄 입력 \\n', '10번째 줄 입력 \\n', '새로운 행이 추가됩니다.새로운 행이 추가됩니다. \\n', '새로운 행이 추가됩니다. \\n', '새로운 행16이 추가됩니다. \\n', '새로운 행17이 추가됩니다. \\n', '새로운 행18이 추가됩니다. \\n', '새로운 행19이 추가됩니다. \\n', '새로운 행20이 추가됩니다. \\n']\n"
     ]
    }
   ],
   "source": [
    "# close 생략 가능한구현 => with\n",
    "with open('new_text.txt', 'r') as file :\n",
    "    lines = file.readlines()\n",
    "    print(lines)"
   ]
  },
  {
   "cell_type": "code",
   "execution_count": 127,
   "id": "a39485e2",
   "metadata": {},
   "outputs": [
    {
     "ename": "ZeroDivisionError",
     "evalue": "division by zero",
     "output_type": "error",
     "traceback": [
      "\u001b[31m---------------------------------------------------------------------------\u001b[39m",
      "\u001b[31mZeroDivisionError\u001b[39m                         Traceback (most recent call last)",
      "\u001b[36mCell\u001b[39m\u001b[36m \u001b[39m\u001b[32mIn[127]\u001b[39m\u001b[32m, line 2\u001b[39m\n\u001b[32m      1\u001b[39m \u001b[38;5;66;03m# 예외처리 : 에러 발생시에 비정상적인 종료 막기 위한 처리\u001b[39;00m\n\u001b[32m----> \u001b[39m\u001b[32m2\u001b[39m \u001b[38;5;28mprint\u001b[39m(\u001b[32;43m10\u001b[39;49m\u001b[43m/\u001b[49m\u001b[32;43m0\u001b[39;49m)\n\u001b[32m      3\u001b[39m \u001b[38;5;28mprint\u001b[39m(\u001b[33m'\u001b[39m\u001b[33m프로그램 종료\u001b[39m\u001b[33m'\u001b[39m)\n",
      "\u001b[31mZeroDivisionError\u001b[39m: division by zero"
     ]
    }
   ],
   "source": [
    "# 예외처리 : 에러 발생시에 비정상적인 종료 막기 위한 처리\n",
    "print(10/0)\n",
    "print('프로그램 종료')"
   ]
  },
  {
   "cell_type": "code",
   "execution_count": 128,
   "id": "2768e928",
   "metadata": {},
   "outputs": [
    {
     "ename": "IndexError",
     "evalue": "list index out of range",
     "output_type": "error",
     "traceback": [
      "\u001b[31m---------------------------------------------------------------------------\u001b[39m",
      "\u001b[31mIndexError\u001b[39m                                Traceback (most recent call last)",
      "\u001b[36mCell\u001b[39m\u001b[36m \u001b[39m\u001b[32mIn[128]\u001b[39m\u001b[32m, line 2\u001b[39m\n\u001b[32m      1\u001b[39m list_t = [\u001b[32m1\u001b[39m,\u001b[32m2\u001b[39m,\u001b[32m3\u001b[39m]\n\u001b[32m----> \u001b[39m\u001b[32m2\u001b[39m \u001b[38;5;28mprint\u001b[39m(\u001b[43mlist_t\u001b[49m\u001b[43m[\u001b[49m\u001b[32;43m3\u001b[39;49m\u001b[43m]\u001b[49m)\n",
      "\u001b[31mIndexError\u001b[39m: list index out of range"
     ]
    }
   ],
   "source": [
    "list_t = [1,2,3]\n",
    "print(list_t[3])"
   ]
  },
  {
   "cell_type": "code",
   "execution_count": 130,
   "id": "ee1c48f2",
   "metadata": {},
   "outputs": [
    {
     "ename": "IndexError",
     "evalue": "list index out of range",
     "output_type": "error",
     "traceback": [
      "\u001b[31m---------------------------------------------------------------------------\u001b[39m",
      "\u001b[31mIndexError\u001b[39m                                Traceback (most recent call last)",
      "\u001b[36mCell\u001b[39m\u001b[36m \u001b[39m\u001b[32mIn[130]\u001b[39m\u001b[32m, line 1\u001b[39m\n\u001b[32m----> \u001b[39m\u001b[32m1\u001b[39m \u001b[38;5;28mprint\u001b[39m(\u001b[43mlist_t\u001b[49m\u001b[43m[\u001b[49m\u001b[43m-\u001b[49m\u001b[32;43m4\u001b[39;49m\u001b[43m]\u001b[49m)\n",
      "\u001b[31mIndexError\u001b[39m: list index out of range"
     ]
    }
   ],
   "source": [
    "print(list_t[-4])"
   ]
  },
  {
   "cell_type": "code",
   "execution_count": 131,
   "id": "11eb8cc3",
   "metadata": {},
   "outputs": [
    {
     "ename": "NameError",
     "evalue": "name 'userName' is not defined",
     "output_type": "error",
     "traceback": [
      "\u001b[31m---------------------------------------------------------------------------\u001b[39m",
      "\u001b[31mNameError\u001b[39m                                 Traceback (most recent call last)",
      "\u001b[36mCell\u001b[39m\u001b[36m \u001b[39m\u001b[32mIn[131]\u001b[39m\u001b[32m, line 1\u001b[39m\n\u001b[32m----> \u001b[39m\u001b[32m1\u001b[39m \u001b[43muserName\u001b[49m\n",
      "\u001b[31mNameError\u001b[39m: name 'userName' is not defined"
     ]
    }
   ],
   "source": [
    "userName"
   ]
  },
  {
   "cell_type": "code",
   "execution_count": 132,
   "id": "67fc2e5f",
   "metadata": {},
   "outputs": [],
   "source": [
    "dict_t = {\n",
    "    'name' : 'SON'\n",
    "}"
   ]
  },
  {
   "cell_type": "code",
   "execution_count": 133,
   "id": "4ee14bab",
   "metadata": {},
   "outputs": [
    {
     "ename": "KeyError",
     "evalue": "'age'",
     "output_type": "error",
     "traceback": [
      "\u001b[31m---------------------------------------------------------------------------\u001b[39m",
      "\u001b[31mKeyError\u001b[39m                                  Traceback (most recent call last)",
      "\u001b[36mCell\u001b[39m\u001b[36m \u001b[39m\u001b[32mIn[133]\u001b[39m\u001b[32m, line 1\u001b[39m\n\u001b[32m----> \u001b[39m\u001b[32m1\u001b[39m \u001b[43mdict_t\u001b[49m\u001b[43m[\u001b[49m\u001b[33;43m'\u001b[39;49m\u001b[33;43mage\u001b[39;49m\u001b[33;43m'\u001b[39;49m\u001b[43m]\u001b[49m\n",
      "\u001b[31mKeyError\u001b[39m: 'age'"
     ]
    }
   ],
   "source": [
    "dict_t['age']"
   ]
  },
  {
   "cell_type": "code",
   "execution_count": 134,
   "id": "69f793db",
   "metadata": {},
   "outputs": [
    {
     "ename": "FileNotFoundError",
     "evalue": "[Errno 2] No such file or directory: 'new_text1.txt'",
     "output_type": "error",
     "traceback": [
      "\u001b[31m---------------------------------------------------------------------------\u001b[39m",
      "\u001b[31mFileNotFoundError\u001b[39m                         Traceback (most recent call last)",
      "\u001b[36mCell\u001b[39m\u001b[36m \u001b[39m\u001b[32mIn[134]\u001b[39m\u001b[32m, line 1\u001b[39m\n\u001b[32m----> \u001b[39m\u001b[32m1\u001b[39m f = \u001b[38;5;28;43mopen\u001b[39;49m\u001b[43m(\u001b[49m\u001b[33;43m'\u001b[39;49m\u001b[33;43mnew_text1.txt\u001b[39;49m\u001b[33;43m'\u001b[39;49m\u001b[43m,\u001b[49m\u001b[43m \u001b[49m\u001b[33;43m'\u001b[39;49m\u001b[33;43mr\u001b[39;49m\u001b[33;43m'\u001b[39;49m\u001b[43m)\u001b[49m\n\u001b[32m      2\u001b[39m f. close()\n",
      "\u001b[36mFile \u001b[39m\u001b[32mc:\\project\\py_project\\.venv\\Lib\\site-packages\\IPython\\core\\interactiveshell.py:327\u001b[39m, in \u001b[36m_modified_open\u001b[39m\u001b[34m(file, *args, **kwargs)\u001b[39m\n\u001b[32m    320\u001b[39m \u001b[38;5;28;01mif\u001b[39;00m file \u001b[38;5;129;01min\u001b[39;00m {\u001b[32m0\u001b[39m, \u001b[32m1\u001b[39m, \u001b[32m2\u001b[39m}:\n\u001b[32m    321\u001b[39m     \u001b[38;5;28;01mraise\u001b[39;00m \u001b[38;5;167;01mValueError\u001b[39;00m(\n\u001b[32m    322\u001b[39m         \u001b[33mf\u001b[39m\u001b[33m\"\u001b[39m\u001b[33mIPython won\u001b[39m\u001b[33m'\u001b[39m\u001b[33mt let you open fd=\u001b[39m\u001b[38;5;132;01m{\u001b[39;00mfile\u001b[38;5;132;01m}\u001b[39;00m\u001b[33m by default \u001b[39m\u001b[33m\"\u001b[39m\n\u001b[32m    323\u001b[39m         \u001b[33m\"\u001b[39m\u001b[33mas it is likely to crash IPython. If you know what you are doing, \u001b[39m\u001b[33m\"\u001b[39m\n\u001b[32m    324\u001b[39m         \u001b[33m\"\u001b[39m\u001b[33myou can use builtins\u001b[39m\u001b[33m'\u001b[39m\u001b[33m open.\u001b[39m\u001b[33m\"\u001b[39m\n\u001b[32m    325\u001b[39m     )\n\u001b[32m--> \u001b[39m\u001b[32m327\u001b[39m \u001b[38;5;28;01mreturn\u001b[39;00m \u001b[43mio_open\u001b[49m\u001b[43m(\u001b[49m\u001b[43mfile\u001b[49m\u001b[43m,\u001b[49m\u001b[43m \u001b[49m\u001b[43m*\u001b[49m\u001b[43margs\u001b[49m\u001b[43m,\u001b[49m\u001b[43m \u001b[49m\u001b[43m*\u001b[49m\u001b[43m*\u001b[49m\u001b[43mkwargs\u001b[49m\u001b[43m)\u001b[49m\n",
      "\u001b[31mFileNotFoundError\u001b[39m: [Errno 2] No such file or directory: 'new_text1.txt'"
     ]
    }
   ],
   "source": [
    "f = open('new_text1.txt', 'r')\n",
    "f. close()"
   ]
  },
  {
   "cell_type": "code",
   "execution_count": 135,
   "id": "c59877ba",
   "metadata": {},
   "outputs": [
    {
     "ename": "TypeError",
     "evalue": "add() missing 2 required positional arguments: 'n1' and 'n2'",
     "output_type": "error",
     "traceback": [
      "\u001b[31m---------------------------------------------------------------------------\u001b[39m",
      "\u001b[31mTypeError\u001b[39m                                 Traceback (most recent call last)",
      "\u001b[36mCell\u001b[39m\u001b[36m \u001b[39m\u001b[32mIn[135]\u001b[39m\u001b[32m, line 1\u001b[39m\n\u001b[32m----> \u001b[39m\u001b[32m1\u001b[39m \u001b[43madd\u001b[49m\u001b[43m(\u001b[49m\u001b[43m)\u001b[49m\n",
      "\u001b[31mTypeError\u001b[39m: add() missing 2 required positional arguments: 'n1' and 'n2'"
     ]
    }
   ],
   "source": [
    "add()"
   ]
  },
  {
   "cell_type": "code",
   "execution_count": 140,
   "id": "67070faa",
   "metadata": {},
   "outputs": [
    {
     "name": "stdout",
     "output_type": "stream",
     "text": [
      "2.0\n",
      "프로그램을 종료합니다.\n"
     ]
    }
   ],
   "source": [
    "try :\n",
    "    print(10/5)  # 에러 예상 위치\n",
    "except:\n",
    "    print('에러가 발생했습니다. 에러에대한 처리를 합니다.')\n",
    "\n",
    "print('프로그램을 종료합니다.')"
   ]
  },
  {
   "cell_type": "code",
   "execution_count": 144,
   "id": "504a8086",
   "metadata": {},
   "outputs": [
    {
     "name": "stdout",
     "output_type": "stream",
     "text": [
      "5.0\n",
      "2\n",
      "에러가 발생했습니다.\n",
      "name 'uname' is not defined\n"
     ]
    }
   ],
   "source": [
    "try :\n",
    "    print(10/2)\n",
    "    print(list_t[1]) # <=======\n",
    "    print(uname)\n",
    "except ZeroDivisionError as e :\n",
    "    print('0으로 나누는 연산을 불가능합니다.')\n",
    "    print(e)\n",
    "except (NameError, IndexError) as e:\n",
    "    #print('정의되지 않은 식별자 입니다.')\n",
    "    print('에러가 발생했습니다.')\n",
    "    print(e)\n",
    "# except IndexError as e:\n",
    "#     print('리스트의 index 범위에서 벗어납니다')\n",
    "#     print(e)\n",
    "except :\n",
    "    print('에러발생!!!')"
   ]
  },
  {
   "cell_type": "code",
   "execution_count": 146,
   "id": "2f0f61a0",
   "metadata": {},
   "outputs": [
    {
     "name": "stdout",
     "output_type": "stream",
     "text": [
      "hello\n",
      "5.0\n",
      "!!!!!\n"
     ]
    }
   ],
   "source": [
    "# try: except: finally: -> 에러 발생여부와 상관없이 실행되어야 하는 블록\n",
    "try:\n",
    "    print('hello')\n",
    "    print(10/2)\n",
    "except:\n",
    "    print('error!!')\n",
    "finally:\n",
    "    print('!!!!!')"
   ]
  },
  {
   "cell_type": "code",
   "execution_count": 151,
   "id": "798ca5df",
   "metadata": {},
   "outputs": [
    {
     "name": "stdout",
     "output_type": "stream",
     "text": [
      "입장\n"
     ]
    }
   ],
   "source": [
    "try :\n",
    "    age = int(input('나이를 입력하세요'))\n",
    "except:\n",
    "    print('숫자형식으로 입력해주세요!!!!!!')\n",
    "else :\n",
    "    if age > 18 :\n",
    "        print('입장')\n",
    "    else :\n",
    "        print('불가')\n"
   ]
  },
  {
   "cell_type": "code",
   "execution_count": 152,
   "id": "eebec995",
   "metadata": {},
   "outputs": [],
   "source": [
    "# 사용자 정의 예외 타입 정의\n",
    "# 논리적인 오류 발생 -> 예외로 처리\n",
    "# age => 음수, 500 : 논리적 오류\n",
    "\n",
    "class MyError(Exception):\n",
    "    pass"
   ]
  },
  {
   "cell_type": "code",
   "execution_count": 153,
   "id": "f09f8f1b",
   "metadata": {},
   "outputs": [
    {
     "ename": "MyError",
     "evalue": "",
     "output_type": "error",
     "traceback": [
      "\u001b[31m---------------------------------------------------------------------------\u001b[39m",
      "\u001b[31mMyError\u001b[39m                                   Traceback (most recent call last)",
      "\u001b[36mCell\u001b[39m\u001b[36m \u001b[39m\u001b[32mIn[153]\u001b[39m\u001b[32m, line 2\u001b[39m\n\u001b[32m      1\u001b[39m \u001b[38;5;66;03m# 에러 강제 발생\u001b[39;00m\n\u001b[32m----> \u001b[39m\u001b[32m2\u001b[39m \u001b[38;5;28;01mraise\u001b[39;00m MyError()\n",
      "\u001b[31mMyError\u001b[39m: "
     ]
    }
   ],
   "source": [
    "# 에러 강제 발생\n",
    "raise MyError()"
   ]
  },
  {
   "cell_type": "code",
   "execution_count": 158,
   "id": "16118204",
   "metadata": {},
   "outputs": [
    {
     "name": "stdout",
     "output_type": "stream",
     "text": [
      "다시입력하세요!\n"
     ]
    }
   ],
   "source": [
    "try:\n",
    "    age = int(input('나이를 입력하세요!'))\n",
    "        \n",
    "    if age<1 or age>200:\n",
    "        raise MyError()\n",
    "    \n",
    "except MyError :\n",
    "    print('나이의 입력 범위는 1~200 까지입니다.\\n다시입력하세요!')\n",
    "except:\n",
    "    print('다시입력하세요!')\n",
    "else :\n",
    "    print(age)"
   ]
  },
  {
   "cell_type": "markdown",
   "id": "ef99fe37",
   "metadata": {},
   "source": [
    "### 2025.06.12"
   ]
  },
  {
   "cell_type": "code",
   "execution_count": null,
   "id": "5442d677",
   "metadata": {},
   "outputs": [],
   "source": [
    "# 객체지향 프로그래밍 : 객체의 개념을 프로그램이에 도입\n",
    "# 객체 : 변수들, 함수들도 구성 => 메모리에 올라가 있는 상태\n",
    "# 클래스 : 변수들과 함수들이 어떻게 구성되는지의 설계도 -> 변수들을 정의, 함수들을 정의의\n",
    "# => 클래스만 정의했다 -> 사용 X, 클래스를 이용해서 객체로 만들어야 사용가능\n",
    "# class 클래스이름:\n",
    "#     변수들과 함수들을 정의\n",
    "# 클래스의 정의 => 새로운 사용자 정의 타입을 만든것!\n",
    "# 객체 생성 => 변수 = 클래스이름()\n",
    "# 객체의 활용 => 변수.객체가가지는변수, 변수.객체가가지는함수()  메서드(객체가 가지는 함수)\n",
    "# 클래스 정의\n",
    "class Cookie:\n",
    "    pass"
   ]
  },
  {
   "cell_type": "code",
   "execution_count": 5,
   "id": "fadf32c3",
   "metadata": {},
   "outputs": [],
   "source": [
    "# 객체 생성\n",
    "c1 = Cookie()\n",
    "c2 = Cookie()"
   ]
  },
  {
   "cell_type": "code",
   "execution_count": 6,
   "id": "f708e512",
   "metadata": {},
   "outputs": [
    {
     "name": "stdout",
     "output_type": "stream",
     "text": [
      "1881564817488 <class '__main__.Cookie'>\n",
      "1881564818128 <class '__main__.Cookie'>\n"
     ]
    }
   ],
   "source": [
    "print(id(c1), type(c1))\n",
    "print(id(c2), type(c2))"
   ]
  },
  {
   "cell_type": "code",
   "execution_count": 29,
   "id": "eaa8fad5",
   "metadata": {},
   "outputs": [],
   "source": [
    "# 사칙연산을 하는 클래스 정의 : 클래스이름, 변수, 함수\n",
    "# 변수는 두개, 함수(메서드) 4개\n",
    "class FourCal:\n",
    "\n",
    "    # 초기화(변수 선언->최초 데이터를 할당당) 메서드 => 생성자, 생성자함수 \n",
    "    # 필요한 변수들의 생성, 값을 초기화\n",
    "    def __init__(self, first, second):\n",
    "        self.first = first\n",
    "        self.second = second\n",
    "\n",
    "    # 클래스에서 함수를 정의할 때에는 반드시 self 매개변수를 받아야한다!\n",
    "    # self => 객체 자시을 가르키는 변수(객체의 주소)\n",
    "    def setdata(self, first, second):\n",
    "        self.first = first\n",
    "        self.second = second\n",
    "    \n",
    "    # 사칙연산 함수\n",
    "    def add(self):\n",
    "        return self.first+self.second\n",
    "    \n",
    "    def sub(self):\n",
    "        return self.first-self.second\n",
    "    \n",
    "    def mul(self):\n",
    "        return self.first*self.second\n",
    "    \n",
    "    def div(self):\n",
    "        return self.first/self.second\n",
    "\n"
   ]
  },
  {
   "cell_type": "code",
   "execution_count": 8,
   "id": "7b216e8a",
   "metadata": {},
   "outputs": [],
   "source": [
    "cal_1 = FourCal()"
   ]
  },
  {
   "cell_type": "code",
   "execution_count": 9,
   "id": "7ea0f58c",
   "metadata": {},
   "outputs": [
    {
     "data": {
      "text/plain": [
       "__main__.FourCal"
      ]
     },
     "execution_count": 9,
     "metadata": {},
     "output_type": "execute_result"
    }
   ],
   "source": [
    "type(cal_1)"
   ]
  },
  {
   "cell_type": "code",
   "execution_count": 11,
   "id": "ff043a4a",
   "metadata": {},
   "outputs": [],
   "source": [
    "cal_1.setdata(10, 20)"
   ]
  },
  {
   "cell_type": "code",
   "execution_count": 12,
   "id": "c0bb3066",
   "metadata": {},
   "outputs": [
    {
     "name": "stdout",
     "output_type": "stream",
     "text": [
      "10 20\n"
     ]
    }
   ],
   "source": [
    "print(cal_1.first, cal_1.second)"
   ]
  },
  {
   "cell_type": "code",
   "execution_count": 13,
   "id": "a6dd1d96",
   "metadata": {},
   "outputs": [],
   "source": [
    "cal_2 = FourCal()"
   ]
  },
  {
   "cell_type": "code",
   "execution_count": 14,
   "id": "5e0a60d5",
   "metadata": {},
   "outputs": [
    {
     "ename": "AttributeError",
     "evalue": "'FourCal' object has no attribute 'first'",
     "output_type": "error",
     "traceback": [
      "\u001b[31m---------------------------------------------------------------------------\u001b[39m",
      "\u001b[31mAttributeError\u001b[39m                            Traceback (most recent call last)",
      "\u001b[36mCell\u001b[39m\u001b[36m \u001b[39m\u001b[32mIn[14]\u001b[39m\u001b[32m, line 1\u001b[39m\n\u001b[32m----> \u001b[39m\u001b[32m1\u001b[39m \u001b[43mcal_2\u001b[49m\u001b[43m.\u001b[49m\u001b[43mfirst\u001b[49m\n",
      "\u001b[31mAttributeError\u001b[39m: 'FourCal' object has no attribute 'first'"
     ]
    }
   ],
   "source": [
    "cal_2.first"
   ]
  },
  {
   "cell_type": "code",
   "execution_count": 16,
   "id": "15eac67e",
   "metadata": {},
   "outputs": [
    {
     "ename": "TypeError",
     "evalue": "FourCal.__init__() missing 2 required positional arguments: 'first' and 'second'",
     "output_type": "error",
     "traceback": [
      "\u001b[31m---------------------------------------------------------------------------\u001b[39m",
      "\u001b[31mTypeError\u001b[39m                                 Traceback (most recent call last)",
      "\u001b[36mCell\u001b[39m\u001b[36m \u001b[39m\u001b[32mIn[16]\u001b[39m\u001b[32m, line 1\u001b[39m\n\u001b[32m----> \u001b[39m\u001b[32m1\u001b[39m cal_3 = \u001b[43mFourCal\u001b[49m\u001b[43m(\u001b[49m\u001b[43m)\u001b[49m\n",
      "\u001b[31mTypeError\u001b[39m: FourCal.__init__() missing 2 required positional arguments: 'first' and 'second'"
     ]
    }
   ],
   "source": [
    "cal_3 = FourCal()"
   ]
  },
  {
   "cell_type": "code",
   "execution_count": 21,
   "id": "920ea0cd",
   "metadata": {},
   "outputs": [],
   "source": [
    "cal_4 = FourCal(100, 200)"
   ]
  },
  {
   "cell_type": "code",
   "execution_count": 22,
   "id": "6e30584f",
   "metadata": {},
   "outputs": [
    {
     "data": {
      "text/plain": [
       "200"
      ]
     },
     "execution_count": 22,
     "metadata": {},
     "output_type": "execute_result"
    }
   ],
   "source": [
    "cal_4.first\n",
    "cal_4.second"
   ]
  },
  {
   "cell_type": "code",
   "execution_count": 30,
   "id": "c22e354f",
   "metadata": {},
   "outputs": [],
   "source": [
    "cal_5 = FourCal(10, 7)"
   ]
  },
  {
   "cell_type": "code",
   "execution_count": 34,
   "id": "eb7c351a",
   "metadata": {},
   "outputs": [
    {
     "name": "stdout",
     "output_type": "stream",
     "text": [
      "10 7\n",
      "17\n",
      "3\n",
      "70\n",
      "1.4285714285714286\n"
     ]
    }
   ],
   "source": [
    "print(cal_5.first, cal_5.second)\n",
    "print(cal_5.add())\n",
    "print(cal_5.sub())\n",
    "print(cal_5.mul())\n",
    "print(cal_5.div())"
   ]
  },
  {
   "cell_type": "code",
   "execution_count": null,
   "id": "c78b9746",
   "metadata": {},
   "outputs": [],
   "source": [
    "# 학생 class 생성 -> 객체 생성 \n",
    "# 변수: 학번, 이름, 국어점수, 영어점수, 수학점수\n",
    "# 기능: 전체 데이터 출력하는 메서드 (이름, 학번, 총점, 평균)\n",
    "#       총점 계산\n",
    "#       평균 계산\n",
    "# 시뮬레이션 : 테스트 학생 데이터 생성-> 결과 출력\n",
    "class Student:\n",
    "    \n",
    "    # 데이터 초기화\n",
    "    def __init__(self, name, sno, k_score, e_score, m_score):\n",
    "        self.s_name = name\n",
    "        self.s_no = sno\n",
    "        self.k_score = k_score\n",
    "        self.e_score = e_score\n",
    "        self.m_score = m_score\n",
    "\n",
    "    def sum(self):\n",
    "        return self.k_score + self.e_score + self.m_score\n",
    "    \n",
    "    def avg(self):\n",
    "        return self.sum()/3\n",
    "\n",
    "    def print_result(self):\n",
    "        print('성적표', '-'*20)\n",
    "        print(f'이름: {self.s_name} ({self.s_no})')\n",
    "        print('국어 :', self.k_score)\n",
    "        print('영어 :', self.e_score)\n",
    "        print('수학 :', self.m_score)\n",
    "        print('총점 :', self.sum())\n",
    "        print('평균 :', self.avg())\n"
   ]
  },
  {
   "cell_type": "code",
   "execution_count": 36,
   "id": "3fd113f2",
   "metadata": {},
   "outputs": [],
   "source": [
    "st_1 = Student()"
   ]
  },
  {
   "cell_type": "code",
   "execution_count": 37,
   "id": "35f4b8c8",
   "metadata": {},
   "outputs": [
    {
     "data": {
      "text/plain": [
       "__main__.Student"
      ]
     },
     "execution_count": 37,
     "metadata": {},
     "output_type": "execute_result"
    }
   ],
   "source": [
    "type(st_1)"
   ]
  },
  {
   "cell_type": "code",
   "execution_count": 43,
   "id": "e450507e",
   "metadata": {},
   "outputs": [],
   "source": [
    "st_2 = Student('손흥민', 12345, 80, 70, 50)"
   ]
  },
  {
   "cell_type": "code",
   "execution_count": 44,
   "id": "52155746",
   "metadata": {},
   "outputs": [
    {
     "name": "stdout",
     "output_type": "stream",
     "text": [
      "성적표 --------------------\n",
      "이름: 손흥민 (12345)\n",
      "국어 : 80\n",
      "영어 : 70\n",
      "수학 : 50\n",
      "총점 : 200\n",
      "평균 : 66.66666666666667\n"
     ]
    }
   ],
   "source": [
    "st_2.print_result()"
   ]
  },
  {
   "cell_type": "code",
   "execution_count": 46,
   "id": "d717f754",
   "metadata": {},
   "outputs": [],
   "source": [
    "students = [\n",
    "    Student('손흥민1', 123451, 80, 70, 50),\n",
    "    Student('손흥민2', 123452, 80, 70, 50),\n",
    "    Student('손흥민3', 123453, 80, 70, 50),\n",
    "    Student('손흥민4', 123454, 80, 70, 50),\n",
    "    Student('손흥민5', 123455, 80, 70, 50),\n",
    "]"
   ]
  },
  {
   "cell_type": "code",
   "execution_count": 47,
   "id": "480704b4",
   "metadata": {},
   "outputs": [
    {
     "name": "stdout",
     "output_type": "stream",
     "text": [
      "성적표 --------------------\n",
      "이름: 손흥민1 (123451)\n",
      "국어 : 80\n",
      "영어 : 70\n",
      "수학 : 50\n",
      "총점 : 200\n",
      "평균 : 66.66666666666667\n",
      "성적표 --------------------\n",
      "이름: 손흥민2 (123452)\n",
      "국어 : 80\n",
      "영어 : 70\n",
      "수학 : 50\n",
      "총점 : 200\n",
      "평균 : 66.66666666666667\n",
      "성적표 --------------------\n",
      "이름: 손흥민3 (123453)\n",
      "국어 : 80\n",
      "영어 : 70\n",
      "수학 : 50\n",
      "총점 : 200\n",
      "평균 : 66.66666666666667\n",
      "성적표 --------------------\n",
      "이름: 손흥민4 (123454)\n",
      "국어 : 80\n",
      "영어 : 70\n",
      "수학 : 50\n",
      "총점 : 200\n",
      "평균 : 66.66666666666667\n",
      "성적표 --------------------\n",
      "이름: 손흥민5 (123455)\n",
      "국어 : 80\n",
      "영어 : 70\n",
      "수학 : 50\n",
      "총점 : 200\n",
      "평균 : 66.66666666666667\n"
     ]
    }
   ],
   "source": [
    "for s in students:\n",
    "    s.print_result()"
   ]
  },
  {
   "cell_type": "code",
   "execution_count": 62,
   "id": "56e5088f",
   "metadata": {},
   "outputs": [],
   "source": [
    "# 클래스의 상속 : 새로운 클래스를 만들때 기존의 클래스의 멤버들을 받아서 생성하는 방법\n",
    "# class 클래스이름(부모클래스)\n",
    "class MoreFourCal(FourCal):\n",
    "    def pow(self):\n",
    "        return self.first**self.second\n",
    "    \n",
    "    def div(self):\n",
    "        if self.second == 0 :\n",
    "            return 0\n",
    "        else :\n",
    "            return self.first/self.second"
   ]
  },
  {
   "cell_type": "code",
   "execution_count": 49,
   "id": "8e1b60f2",
   "metadata": {},
   "outputs": [
    {
     "ename": "TypeError",
     "evalue": "FourCal.__init__() missing 2 required positional arguments: 'first' and 'second'",
     "output_type": "error",
     "traceback": [
      "\u001b[31m---------------------------------------------------------------------------\u001b[39m",
      "\u001b[31mTypeError\u001b[39m                                 Traceback (most recent call last)",
      "\u001b[36mCell\u001b[39m\u001b[36m \u001b[39m\u001b[32mIn[49]\u001b[39m\u001b[32m, line 1\u001b[39m\n\u001b[32m----> \u001b[39m\u001b[32m1\u001b[39m mcal_1 = \u001b[43mMoreFourCal\u001b[49m\u001b[43m(\u001b[49m\u001b[43m)\u001b[49m\n",
      "\u001b[31mTypeError\u001b[39m: FourCal.__init__() missing 2 required positional arguments: 'first' and 'second'"
     ]
    }
   ],
   "source": [
    "mcal_1 = MoreFourCal()"
   ]
  },
  {
   "cell_type": "code",
   "execution_count": 50,
   "id": "dc6e4247",
   "metadata": {},
   "outputs": [],
   "source": [
    "mcal_1 = MoreFourCal(100, 8)"
   ]
  },
  {
   "cell_type": "code",
   "execution_count": 54,
   "id": "e6586a94",
   "metadata": {},
   "outputs": [
    {
     "name": "stdout",
     "output_type": "stream",
     "text": [
      "108\n",
      "92\n",
      "800\n",
      "12.5\n"
     ]
    }
   ],
   "source": [
    "print(mcal_1.add())\n",
    "print(mcal_1.sub())\n",
    "print(mcal_1.mul())\n",
    "print(mcal_1.div())"
   ]
  },
  {
   "cell_type": "code",
   "execution_count": 63,
   "id": "ca6f826e",
   "metadata": {},
   "outputs": [],
   "source": [
    "mcal_2 = MoreFourCal(100, 0)"
   ]
  },
  {
   "cell_type": "code",
   "execution_count": 64,
   "id": "c62e16d2",
   "metadata": {},
   "outputs": [
    {
     "name": "stdout",
     "output_type": "stream",
     "text": [
      "100\n",
      "0\n",
      "0\n",
      "1\n"
     ]
    }
   ],
   "source": [
    "print(mcal_2.add())\n",
    "print(mcal_2.mul())\n",
    "print(mcal_2.div())\n",
    "print(mcal_2.pow())"
   ]
  },
  {
   "cell_type": "markdown",
   "id": "91803712",
   "metadata": {},
   "source": [
    "### 표준모듈"
   ]
  },
  {
   "cell_type": "code",
   "execution_count": 1,
   "id": "6286e259",
   "metadata": {},
   "outputs": [],
   "source": [
    "import datetime"
   ]
  },
  {
   "cell_type": "code",
   "execution_count": 2,
   "id": "0b256d77",
   "metadata": {},
   "outputs": [],
   "source": [
    "day1 = datetime.date(2025, 6, 12)"
   ]
  },
  {
   "cell_type": "code",
   "execution_count": 4,
   "id": "86793e0d",
   "metadata": {},
   "outputs": [
    {
     "name": "stdout",
     "output_type": "stream",
     "text": [
      "2025-06-12\n"
     ]
    }
   ],
   "source": [
    "print(day1)"
   ]
  },
  {
   "cell_type": "code",
   "execution_count": 5,
   "id": "85514897",
   "metadata": {},
   "outputs": [],
   "source": [
    "day2 = datetime.date(2025, 1, 1)"
   ]
  },
  {
   "cell_type": "code",
   "execution_count": 6,
   "id": "dd9535b2",
   "metadata": {},
   "outputs": [
    {
     "name": "stdout",
     "output_type": "stream",
     "text": [
      "162 days, 0:00:00\n"
     ]
    }
   ],
   "source": [
    "print(day1-day2)"
   ]
  },
  {
   "cell_type": "code",
   "execution_count": 7,
   "id": "a12ef5ff",
   "metadata": {},
   "outputs": [],
   "source": [
    "import time"
   ]
  },
  {
   "cell_type": "code",
   "execution_count": 8,
   "id": "9cf5cc97",
   "metadata": {},
   "outputs": [
    {
     "data": {
      "text/plain": [
       "1749711409.0991209"
      ]
     },
     "execution_count": 8,
     "metadata": {},
     "output_type": "execute_result"
    }
   ],
   "source": [
    "time.time()"
   ]
  },
  {
   "cell_type": "code",
   "execution_count": null,
   "id": "03a5c1d1",
   "metadata": {},
   "outputs": [
    {
     "data": {
      "text/plain": [
       "time.struct_time(tm_year=2025, tm_mon=6, tm_mday=12, tm_hour=15, tm_min=57, tm_sec=20, tm_wday=3, tm_yday=163, tm_isdst=0)"
      ]
     },
     "execution_count": 9,
     "metadata": {},
     "output_type": "execute_result"
    }
   ],
   "source": [
    "time.localtime()"
   ]
  },
  {
   "cell_type": "code",
   "execution_count": 10,
   "id": "90708222",
   "metadata": {},
   "outputs": [
    {
     "data": {
      "text/plain": [
       "'Thu Jun 12 15:58:32 2025'"
      ]
     },
     "execution_count": 10,
     "metadata": {},
     "output_type": "execute_result"
    }
   ],
   "source": [
    "time.ctime()"
   ]
  },
  {
   "cell_type": "code",
   "execution_count": 11,
   "id": "6c8b7a1f",
   "metadata": {},
   "outputs": [],
   "source": [
    "import random"
   ]
  },
  {
   "cell_type": "code",
   "execution_count": 35,
   "id": "36a74dd9",
   "metadata": {},
   "outputs": [
    {
     "data": {
      "text/plain": [
       "0.7639145556730687"
      ]
     },
     "execution_count": 35,
     "metadata": {},
     "output_type": "execute_result"
    }
   ],
   "source": [
    "random.random() #  0.00000000 <= R < 1"
   ]
  },
  {
   "cell_type": "code",
   "execution_count": 59,
   "id": "c3b33cf1",
   "metadata": {},
   "outputs": [
    {
     "data": {
      "text/plain": [
       "99"
      ]
     },
     "execution_count": 59,
     "metadata": {},
     "output_type": "execute_result"
    }
   ],
   "source": [
    "random.randint(60, 100)"
   ]
  },
  {
   "cell_type": "code",
   "execution_count": 63,
   "id": "45b90d3e",
   "metadata": {},
   "outputs": [
    {
     "name": "stdout",
     "output_type": "stream",
     "text": [
      "[98, 73, 88, 73, 63, 72, 75, 66, 72, 89]\n"
     ]
    }
   ],
   "source": [
    "list_score = []\n",
    "for s in range(0,10):\n",
    "    list_score.append(random.randint(60, 100))\n",
    "\n",
    "print(list_score)"
   ]
  },
  {
   "cell_type": "code",
   "execution_count": 71,
   "id": "2a2ee742",
   "metadata": {},
   "outputs": [
    {
     "data": {
      "text/plain": [
       "4"
      ]
     },
     "execution_count": 71,
     "metadata": {},
     "output_type": "execute_result"
    }
   ],
   "source": [
    "random.choice([1,2,3,4,5,6,7,8])"
   ]
  },
  {
   "cell_type": "code",
   "execution_count": 81,
   "id": "47341829",
   "metadata": {},
   "outputs": [
    {
     "data": {
      "text/plain": [
       "[1, 6, 2, 9, 3]"
      ]
     },
     "execution_count": 81,
     "metadata": {},
     "output_type": "execute_result"
    }
   ],
   "source": [
    "random.sample([1,2,3,4,5,6,7,8,9], 5)"
   ]
  },
  {
   "cell_type": "code",
   "execution_count": 82,
   "id": "ff85c9e8",
   "metadata": {},
   "outputs": [],
   "source": [
    "import os"
   ]
  },
  {
   "cell_type": "code",
   "execution_count": 83,
   "id": "3a1e0643",
   "metadata": {},
   "outputs": [
    {
     "data": {
      "text/plain": [
       "environ{'ALLUSERSPROFILE': 'C:\\\\ProgramData',\n",
       "        'APPDATA': 'C:\\\\Users\\\\LG\\\\AppData\\\\Roaming',\n",
       "        'CHROME_CRASHPAD_PIPE_NAME': '\\\\\\\\.\\\\pipe\\\\crashpad_11884_QTRZGHRSOFLIGXVW',\n",
       "        'COMMONPROGRAMFILES': 'C:\\\\Program Files\\\\Common Files',\n",
       "        'COMMONPROGRAMFILES(X86)': 'C:\\\\Program Files (x86)\\\\Common Files',\n",
       "        'COMMONPROGRAMW6432': 'C:\\\\Program Files\\\\Common Files',\n",
       "        'COMPUTERNAME': 'DESKTOP-9N5PTRO',\n",
       "        'COMSPEC': 'C:\\\\WINDOWS\\\\system32\\\\cmd.exe',\n",
       "        'DRIVERDATA': 'C:\\\\Windows\\\\System32\\\\Drivers\\\\DriverData',\n",
       "        'EFC_14880_1262719628': '1',\n",
       "        'EFC_14880_1592913036': '1',\n",
       "        'EFC_14880_2283032206': '1',\n",
       "        'EFC_14880_2775293581': '1',\n",
       "        'EFC_14880_3789132940': '1',\n",
       "        'ELECTRON_RUN_AS_NODE': '1',\n",
       "        'FPS_BROWSER_APP_PROFILE_STRING': 'Internet Explorer',\n",
       "        'FPS_BROWSER_USER_PROFILE_STRING': 'Default',\n",
       "        'HOMEDRIVE': 'C:',\n",
       "        'HOMEPATH': '\\\\Users\\\\LG',\n",
       "        'JPY_INTERRUPT_EVENT': '2088',\n",
       "        'LOCALAPPDATA': 'C:\\\\Users\\\\LG\\\\AppData\\\\Local',\n",
       "        'LOGONSERVER': '\\\\\\\\DESKTOP-9N5PTRO',\n",
       "        'NUMBER_OF_PROCESSORS': '12',\n",
       "        'ONEDRIVE': 'C:\\\\Users\\\\LG\\\\OneDrive',\n",
       "        'ORIGINAL_XDG_CURRENT_DESKTOP': 'undefined',\n",
       "        'OS': 'Windows_NT',\n",
       "        'PATH': 'c:\\\\project\\\\py_project\\\\.venv\\\\Scripts;C:\\\\Program Files (x86)\\\\VMware\\\\VMware Workstation\\\\bin\\\\;C:\\\\WINDOWS\\\\system32;C:\\\\WINDOWS;C:\\\\WINDOWS\\\\System32\\\\Wbem;C:\\\\WINDOWS\\\\System32\\\\WindowsPowerShell\\\\v1.0\\\\;C:\\\\WINDOWS\\\\System32\\\\OpenSSH\\\\;C:\\\\Program Files\\\\Git\\\\cmd;C:\\\\Program Files\\\\Bandizip\\\\;C:\\\\Program Files\\\\jdk-23.0.1\\\\bin;C:\\\\Users\\\\LG\\\\Downloads\\\\apache-maven-3.9.9\\\\bin;;C:\\\\Program Files\\\\Docker\\\\Docker\\\\resources\\\\bin;C:\\\\Users\\\\LG\\\\AppData\\\\Local\\\\Programs\\\\Python\\\\Python313\\\\Scripts\\\\;C:\\\\Users\\\\LG\\\\AppData\\\\Local\\\\Programs\\\\Python\\\\Python313\\\\;C:\\\\Users\\\\LG\\\\AppData\\\\Local\\\\Microsoft\\\\WindowsApps;C:\\\\Users\\\\LG\\\\AppData\\\\Local\\\\Programs\\\\Microsoft VS Code\\\\bin;C:\\\\Program Files (x86)\\\\Nmap;',\n",
       "        'PATHEXT': '.COM;.EXE;.BAT;.CMD;.VBS;.VBE;.JS;.JSE;.WSF;.WSH;.MSC',\n",
       "        'PROCESSOR_ARCHITECTURE': 'AMD64',\n",
       "        'PROCESSOR_IDENTIFIER': 'Intel64 Family 6 Model 186 Stepping 3, GenuineIntel',\n",
       "        'PROCESSOR_LEVEL': '6',\n",
       "        'PROCESSOR_REVISION': 'ba03',\n",
       "        'PROGRAMDATA': 'C:\\\\ProgramData',\n",
       "        'PROGRAMFILES': 'C:\\\\Program Files',\n",
       "        'PROGRAMFILES(X86)': 'C:\\\\Program Files (x86)',\n",
       "        'PROGRAMW6432': 'C:\\\\Program Files',\n",
       "        'PROMPT': '(.venv) $P$G',\n",
       "        'PSMODULEPATH': 'C:\\\\Program Files\\\\WindowsPowerShell\\\\Modules;C:\\\\WINDOWS\\\\system32\\\\WindowsPowerShell\\\\v1.0\\\\Modules',\n",
       "        'PUBLIC': 'C:\\\\Users\\\\Public',\n",
       "        'PYDEVD_IPYTHON_COMPATIBLE_DEBUGGING': '1',\n",
       "        'PYTHONIOENCODING': 'utf-8',\n",
       "        'PYTHONUNBUFFERED': '1',\n",
       "        'PYTHON_FROZEN_MODULES': 'on',\n",
       "        'SESSIONNAME': 'Console',\n",
       "        'SYSTEMDRIVE': 'C:',\n",
       "        'SYSTEMROOT': 'C:\\\\WINDOWS',\n",
       "        'TEMP': 'C:\\\\Users\\\\LG\\\\AppData\\\\Local\\\\Temp',\n",
       "        'TMP': 'C:\\\\Users\\\\LG\\\\AppData\\\\Local\\\\Temp',\n",
       "        'USERDOMAIN': 'DESKTOP-9N5PTRO',\n",
       "        'USERDOMAIN_ROAMINGPROFILE': 'DESKTOP-9N5PTRO',\n",
       "        'USERNAME': 'LG',\n",
       "        'USERPROFILE': 'C:\\\\Users\\\\LG',\n",
       "        'VBOX_MSI_INSTALL_PATH': 'C:\\\\Program Files\\\\Oracle\\\\VirtualBox\\\\',\n",
       "        'VIRTUAL_ENV': 'c:\\\\project\\\\py_project\\\\.venv',\n",
       "        'VIRTUAL_ENV_PROMPT': '.venv',\n",
       "        'VSCODE_CODE_CACHE_PATH': 'C:\\\\Users\\\\LG\\\\AppData\\\\Roaming\\\\Code\\\\CachedData\\\\258e40fedc6cb8edf399a463ce3a9d32e7e1f6f3',\n",
       "        'VSCODE_CRASH_REPORTER_PROCESS_TYPE': 'extensionHost',\n",
       "        'VSCODE_CWD': 'C:\\\\WINDOWS\\\\System32',\n",
       "        'VSCODE_ESM_ENTRYPOINT': 'vs/workbench/api/node/extensionHostProcess',\n",
       "        'VSCODE_HANDLES_UNCAUGHT_ERRORS': 'true',\n",
       "        'VSCODE_IPC_HOOK': '\\\\\\\\.\\\\pipe\\\\26ea775e-1.100.3-main-sock',\n",
       "        'VSCODE_L10N_BUNDLE_LOCATION': '',\n",
       "        'VSCODE_NLS_CONFIG': '{\"userLocale\":\"en-us\",\"osLocale\":\"ko\",\"resolvedLanguage\":\"en\",\"defaultMessagesFile\":\"C:\\\\\\\\Users\\\\\\\\LG\\\\\\\\AppData\\\\\\\\Local\\\\\\\\Programs\\\\\\\\Microsoft VS Code\\\\\\\\resources\\\\\\\\app\\\\\\\\out\\\\\\\\nls.messages.json\",\"locale\":\"en-us\",\"availableLanguages\":{}}',\n",
       "        'VSCODE_PID': '11884',\n",
       "        'WINDIR': 'C:\\\\WINDOWS',\n",
       "        'ZES_ENABLE_SYSMAN': '1',\n",
       "        '_OLD_VIRTUAL_PATH': 'C:\\\\Program Files (x86)\\\\VMware\\\\VMware Workstation\\\\bin\\\\;C:\\\\WINDOWS\\\\system32;C:\\\\WINDOWS;C:\\\\WINDOWS\\\\System32\\\\Wbem;C:\\\\WINDOWS\\\\System32\\\\WindowsPowerShell\\\\v1.0\\\\;C:\\\\WINDOWS\\\\System32\\\\OpenSSH\\\\;C:\\\\Program Files\\\\Git\\\\cmd;C:\\\\Program Files\\\\Bandizip\\\\;C:\\\\Program Files\\\\jdk-23.0.1\\\\bin;C:\\\\Users\\\\LG\\\\Downloads\\\\apache-maven-3.9.9\\\\bin;;C:\\\\Program Files\\\\Docker\\\\Docker\\\\resources\\\\bin;C:\\\\Users\\\\LG\\\\AppData\\\\Local\\\\Programs\\\\Python\\\\Python313\\\\Scripts\\\\;C:\\\\Users\\\\LG\\\\AppData\\\\Local\\\\Programs\\\\Python\\\\Python313\\\\;C:\\\\Users\\\\LG\\\\AppData\\\\Local\\\\Microsoft\\\\WindowsApps;C:\\\\Users\\\\LG\\\\AppData\\\\Local\\\\Programs\\\\Microsoft VS Code\\\\bin;C:\\\\Program Files (x86)\\\\Nmap;',\n",
       "        '_OLD_VIRTUAL_PROMPT': '$P$G',\n",
       "        'PYDEVD_USE_FRAME_EVAL': 'NO',\n",
       "        'TERM': 'xterm-color',\n",
       "        'CLICOLOR': '1',\n",
       "        'FORCE_COLOR': '1',\n",
       "        'CLICOLOR_FORCE': '1',\n",
       "        'PAGER': 'cat',\n",
       "        'GIT_PAGER': 'cat',\n",
       "        'MPLBACKEND': 'module://matplotlib_inline.backend_inline'}"
      ]
     },
     "execution_count": 83,
     "metadata": {},
     "output_type": "execute_result"
    }
   ],
   "source": [
    "os.environ"
   ]
  },
  {
   "cell_type": "code",
   "execution_count": 84,
   "id": "7e4eeaff",
   "metadata": {},
   "outputs": [],
   "source": [
    "os.chdir('c:\\\\windows')"
   ]
  },
  {
   "cell_type": "code",
   "execution_count": 88,
   "id": "cf2968f7",
   "metadata": {},
   "outputs": [
    {
     "data": {
      "text/plain": [
       "'C:\\\\project\\\\py_project'"
      ]
     },
     "execution_count": 88,
     "metadata": {},
     "output_type": "execute_result"
    }
   ],
   "source": [
    "os.getcwd()"
   ]
  },
  {
   "cell_type": "code",
   "execution_count": 87,
   "id": "459e5571",
   "metadata": {},
   "outputs": [],
   "source": [
    "os.chdir('C:\\\\project\\\\py_project')"
   ]
  },
  {
   "cell_type": "code",
   "execution_count": 89,
   "id": "3260b81b",
   "metadata": {},
   "outputs": [],
   "source": [
    "os.mkdir('test')"
   ]
  },
  {
   "cell_type": "code",
   "execution_count": 90,
   "id": "7ce2c32d",
   "metadata": {},
   "outputs": [],
   "source": [
    "os.rmdir('test')"
   ]
  },
  {
   "cell_type": "code",
   "execution_count": 91,
   "id": "3636aba5",
   "metadata": {},
   "outputs": [],
   "source": [
    "import json"
   ]
  },
  {
   "cell_type": "code",
   "execution_count": 92,
   "id": "55a43511",
   "metadata": {},
   "outputs": [],
   "source": [
    "with open('data.json', 'r', encoding='utf8') as f :\n",
    "    data = json.load(f)"
   ]
  },
  {
   "cell_type": "code",
   "execution_count": 94,
   "id": "716f731e",
   "metadata": {},
   "outputs": [
    {
     "name": "stdout",
     "output_type": "stream",
     "text": [
      "{'name': '손흥민', 'age': 30, 'number': 7} <class 'dict'>\n"
     ]
    }
   ],
   "source": [
    "print(data, type(data))"
   ]
  },
  {
   "cell_type": "code",
   "execution_count": 95,
   "id": "20ce00f0",
   "metadata": {},
   "outputs": [],
   "source": [
    "json_str_data = json.dumps(data)"
   ]
  },
  {
   "cell_type": "code",
   "execution_count": 97,
   "id": "0f72643a",
   "metadata": {},
   "outputs": [
    {
     "name": "stdout",
     "output_type": "stream",
     "text": [
      "{\"name\": \"\\uc190\\ud765\\ubbfc\", \"age\": 30, \"number\": 7} <class 'str'>\n"
     ]
    }
   ],
   "source": [
    "print(json_str_data, type(json_str_data))"
   ]
  },
  {
   "cell_type": "code",
   "execution_count": 99,
   "id": "a5fca26d",
   "metadata": {},
   "outputs": [],
   "source": [
    "import numpy as np"
   ]
  },
  {
   "cell_type": "code",
   "execution_count": 100,
   "id": "6f0dd039",
   "metadata": {},
   "outputs": [],
   "source": [
    "arr = np.array([1,2,3,4,5])"
   ]
  },
  {
   "cell_type": "code",
   "execution_count": 102,
   "id": "83c014c1",
   "metadata": {},
   "outputs": [
    {
     "name": "stdout",
     "output_type": "stream",
     "text": [
      "[1 2 3 4 5] <class 'numpy.ndarray'>\n"
     ]
    }
   ],
   "source": [
    "print(arr, type(arr))"
   ]
  },
  {
   "cell_type": "code",
   "execution_count": 103,
   "id": "f5aa1206",
   "metadata": {},
   "outputs": [
    {
     "data": {
      "text/plain": [
       "array([11, 12, 13, 14, 15])"
      ]
     },
     "execution_count": 103,
     "metadata": {},
     "output_type": "execute_result"
    }
   ],
   "source": [
    "arr + 10"
   ]
  },
  {
   "cell_type": "code",
   "execution_count": 106,
   "id": "016ab288",
   "metadata": {},
   "outputs": [
    {
     "name": "stdout",
     "output_type": "stream",
     "text": [
      "[[0. 0. 0.]]\n"
     ]
    }
   ],
   "source": [
    "# 배열의 생성\n",
    "# 0으로 채워지는 배열 생성\n",
    "zeros = np.zeros((1,3))\n",
    "print(zeros)"
   ]
  },
  {
   "cell_type": "code",
   "execution_count": 109,
   "id": "3cdad3fb",
   "metadata": {},
   "outputs": [
    {
     "name": "stdout",
     "output_type": "stream",
     "text": [
      "[[1. 1. 1.]\n",
      " [1. 1. 1.]\n",
      " [1. 1. 1.]\n",
      " [1. 1. 1.]\n",
      " [1. 1. 1.]]\n"
     ]
    }
   ],
   "source": [
    "# 1로 채우는 배열\n",
    "ones = np.ones((5,3))\n",
    "print(ones)"
   ]
  },
  {
   "cell_type": "code",
   "execution_count": 112,
   "id": "0ec40eb9",
   "metadata": {},
   "outputs": [
    {
     "name": "stdout",
     "output_type": "stream",
     "text": [
      "[1 4 7]\n"
     ]
    }
   ],
   "source": [
    "# 일련번호 생성되는 배열\n",
    "# 0~10 사이의 숫자를 2씩 간격으로 생성\n",
    "seq_1 = np.arange(1, 10, 3)\n",
    "print(seq_1)"
   ]
  },
  {
   "cell_type": "code",
   "execution_count": 117,
   "id": "ecda9a3a",
   "metadata": {},
   "outputs": [
    {
     "name": "stdout",
     "output_type": "stream",
     "text": [
      "[ 1.  4.  7. 10.]\n"
     ]
    }
   ],
   "source": [
    "# 지정된 범위 안에서 동일한 간격으로 숫자를 생성\n",
    "# 0~1 5개로 구분\n",
    "linspace = np.linspace(1, 10, 4)\n",
    "print(linspace)"
   ]
  },
  {
   "cell_type": "code",
   "execution_count": null,
   "id": "df6162b4",
   "metadata": {},
   "outputs": [],
   "source": [
    "# 배열의 속성 확인\n",
    "arr1 = np.array([[1,2,3],[4,5,6]])"
   ]
  },
  {
   "cell_type": "code",
   "execution_count": 130,
   "id": "7f3b16d0",
   "metadata": {},
   "outputs": [
    {
     "name": "stdout",
     "output_type": "stream",
     "text": [
      "<class 'numpy.ndarray'>\n",
      "(2, 3)\n",
      "2\n",
      "6\n",
      "int64\n"
     ]
    }
   ],
   "source": [
    "print(type(arr1))\n",
    "print(arr1.shape)   # 배열의 크기 (행, 열) => (3,3)\n",
    "print(arr1.ndim)    # 배열의 차원 : 2\n",
    "print(arr1.size)    # 요소의 개수 : 6\n",
    "print(arr1.dtype)   # int64"
   ]
  }
 ],
 "metadata": {
  "kernelspec": {
   "display_name": ".venv",
   "language": "python",
   "name": "python3"
  },
  "language_info": {
   "codemirror_mode": {
    "name": "ipython",
    "version": 3
   },
   "file_extension": ".py",
   "mimetype": "text/x-python",
   "name": "python",
   "nbconvert_exporter": "python",
   "pygments_lexer": "ipython3",
   "version": "3.13.4"
  }
 },
 "nbformat": 4,
 "nbformat_minor": 5
}
