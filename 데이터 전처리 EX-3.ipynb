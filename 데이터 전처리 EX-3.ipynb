{
 "cells": [
  {
   "cell_type": "code",
   "execution_count": 1,
   "metadata": {},
   "outputs": [
    {
     "name": "stdout",
     "output_type": "stream",
     "text": [
      "carat 이상치 하한(lower bound): -0.5599999999999999\n",
      "carat 이상치 상한(upper bound): 2.0\n",
      "이상치 제거 후 데이터 개수: 52051\n"
     ]
    }
   ],
   "source": [
    "import pandas as pd\n",
    "\n",
    "# 1. 데이터 불러오기\n",
    "df = pd.read_csv(r'C:\\skproject\\pyproject\\diamonds.csv')\n",
    "\n",
    "# 2. carat 열의 IQR 계산\n",
    "Q1 = df['carat'].quantile(0.25)\n",
    "Q3 = df['carat'].quantile(0.75)\n",
    "IQR = Q3 - Q1\n",
    "\n",
    "#이상치는 Q1 - 1.5 * IQR 보다 작거나, Q3 + 1.5 * IQR 보다 큰 경우로 정의\n",
    "lower_bound = Q1 - 1.5 * IQR\n",
    "upper_bound = Q3 + 1.5 * IQR\n",
    "\n",
    "print(f'carat 이상치 하한(lower bound): {lower_bound}')\n",
    "print(f'carat 이상치 상한(upper bound): {upper_bound}')\n",
    "\n",
    "# 3. 이상치 제거, 경계를 벗어나는 데이터를 제거\n",
    "df_no_outlier = df[(df['carat'] >= lower_bound) & (df['carat'] <= upper_bound)]\n",
    "\n",
    "# 4. 이상치 제거 후 데이터 개수 출력\n",
    "print(f'이상치 제거 후 데이터 개수: {len(df_no_outlier)}')\n"
   ]
  }
 ],
 "metadata": {
  "kernelspec": {
   "display_name": ".venv",
   "language": "python",
   "name": "python3"
  },
  "language_info": {
   "codemirror_mode": {
    "name": "ipython",
    "version": 3
   },
   "file_extension": ".py",
   "mimetype": "text/x-python",
   "name": "python",
   "nbconvert_exporter": "python",
   "pygments_lexer": "ipython3",
   "version": "3.12.2"
  }
 },
 "nbformat": 4,
 "nbformat_minor": 2
}
