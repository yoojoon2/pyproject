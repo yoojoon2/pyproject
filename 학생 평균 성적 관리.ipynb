{
 "cells": [
  {
   "cell_type": "markdown",
   "id": "ba3ef9f2",
   "metadata": {},
   "source": [
    "# 학생 평균 성적 관리\n",
    "### 학생 성적 관리 프로그램: Python OOP로 데이터 처리하기"
   ]
  },
  {
   "cell_type": "code",
   "execution_count": 5,
   "id": "0a28c4bd",
   "metadata": {},
   "outputs": [],
   "source": [
    "#StudentScores 클래스 정의\n",
    "class StudentScores:\n",
    "    def __init__(self, filename):\n",
    "        # 파일 열어서 점수 읽고 딕셔너리에 저장하는 부분\n",
    "        self.filename = filename # 파일 경로 저장\n",
    "        self.scores = {}  # 학생 이름과 점수를 저장할 딕셔너리\n",
    "        try:\n",
    "            # 파일을 열어서 한 줄씩 읽음\n",
    "            with open(filename, 'r', encoding='utf-8') as f:\n",
    "                for line in f:\n",
    "                    # 각 줄에서 이름과 점수를 분리\n",
    "                    name, score = line.strip().split(',')\n",
    "                    self.scores[name] = int(score)  # 점수는 정수형으로 저장\n",
    "        except Exception as e:\n",
    "            # 파일을 못 열거나 읽는 도중 문제가 생기면 오류 메시지 출력\n",
    "            print(f\"파일 읽는 도중 에러 발생함: {e}\")\n",
    "\n",
    "        # 평균 점수를 미리 계산해두기\n",
    "        self.average = self.calculate_average()\n",
    "\n",
    "    def calculate_average(self):\n",
    "        \"\"\"\n",
    "        평균 점수를 계산하는 함수\n",
    "        - 총점을 구하고 학생 수로 나눠서 평균을 계산함\n",
    "        \"\"\"\n",
    "        total = sum(self.scores.values()) # 점수들의 합\n",
    "        count = len(self.scores)            # 학생 수\n",
    "        return total / count if count > 0 else 0  # 학생이 없으면 평균은 0\n",
    "\n",
    "    def get_above_average(self):\n",
    "        # 평균 이상 점수를 받은 학생 이름만 리스트로 뽑아주는 함수\n",
    "        return [name for name, score in self.scores.items() if score >= self.average]\n",
    "\n",
    "    def save_below_average(self, output_file='C:/skproject/pyproject/below_average_korean.txt'):\n",
    "        # 평균보다 낮은 애들은 따로 파일에 저장함\n",
    "        # 저장 경로는 프로젝트 폴더 위치\n",
    "        try:\n",
    "            with open(output_file, 'w', encoding='utf-8') as f:\n",
    "                for name, score in self.scores.items():\n",
    "                    if score < self.average:\n",
    "                        f.write(f\"{name},{score}\\n\")  ## 파일에 한 줄씩 저장\n",
    "        except Exception as e:\n",
    "            print(f\"저장할 때 에러 났음: {e}\")\n",
    "\n",
    "    def print_summary(self):\n",
    "        # 전체 요약 정보 출력해주는 부분\n",
    "        print(f\"총 학생 수: {len(self.scores)}명\")\n",
    "        print(f\"평균 점수는: {self.average:.2f}점\")  # 소수점 둘째자리까지 출력\n",
    "        print(\"평균 넘긴 학생들 명단:\")\n",
    "        for name in self.get_above_average():\n",
    "            print(f\" - {name}: {self.scores[name]}점\")\n"
   ]
  },
  {
   "cell_type": "code",
   "execution_count": 6,
   "id": "1bb9db85",
   "metadata": {},
   "outputs": [
    {
     "name": "stdout",
     "output_type": "stream",
     "text": [
      "총 학생 수: 5명\n",
      "평균 점수는: 86.60점\n",
      "평균 넘긴 학생들 명단:\n",
      " - 박영희: 90점\n",
      " - 최다은: 92점\n",
      " - 강은지: 88점\n"
     ]
    }
   ],
   "source": [
    "# 여기서부터 실행 구간\n",
    "\n",
    "file_path = 'C:/skproject/pyproject/scores_korean.txt'  # 읽을 파일의 경로 지정\n",
    "\n",
    "ss = StudentScores(file_path) # StudentScores 클래스 사용해서 객체 생성\n",
    "ss.print_summary() # 요약 출력 실행\n",
    "ss.save_below_average()   # 평균 미만 학생은 다른 파일에 따로 저장\n"
   ]
  }
 ],
 "metadata": {
  "kernelspec": {
   "display_name": ".venv",
   "language": "python",
   "name": "python3"
  },
  "language_info": {
   "codemirror_mode": {
    "name": "ipython",
    "version": 3
   },
   "file_extension": ".py",
   "mimetype": "text/x-python",
   "name": "python",
   "nbconvert_exporter": "python",
   "pygments_lexer": "ipython3",
   "version": "3.12.2"
  }
 },
 "nbformat": 4,
 "nbformat_minor": 5
}
